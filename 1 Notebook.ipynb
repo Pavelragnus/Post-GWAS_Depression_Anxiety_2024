{
 "cells": [
  {
   "cell_type": "code",
   "execution_count": 19,
   "id": "b02358ad-78e5-442e-8415-631ef42038d2",
   "metadata": {},
   "outputs": [],
   "source": [
    "import pandas as pd\n",
    "import numpy as np\n",
    "import matplotlib.pyplot as plt\n",
    "from scipy.stats import norm\n",
    "import warnings\n",
    "warnings.filterwarnings('ignore')\n",
    "import seaborn as sns\n",
    "import os\n",
    "import re"
   ]
  },
  {
   "cell_type": "code",
   "execution_count": 20,
   "id": "5c0f714b-7fb5-45de-b09c-1969c286e15e",
   "metadata": {},
   "outputs": [],
   "source": [
    "cwd = os.getcwd() \n",
    "lists = os.listdir(f'{cwd}/GWAS') "
   ]
  },
  {
   "cell_type": "code",
   "execution_count": 21,
   "id": "90c53f08-afd7-44f3-9d62-b57d2aa82f8f",
   "metadata": {},
   "outputs": [
    {
     "data": {
      "text/plain": [
       "['DSM субклиническая депрессия logistic.top1000_new.xlsx',\n",
       " 'DSM_БАР logistic.top1000_new.xlsx',\n",
       " 'DSM_ГТР logistic.top1000_new.xlsx',\n",
       " 'DSM_ДЕПРЕССИЯ logistic.top1000_new.xlsx',\n",
       " 'HADS_A. БАЛЛ linear.top1000_new.xlsx',\n",
       " 'HADS_A_КАТЕГОРИЯ logistic.top1000_new.xlsx',\n",
       " 'HADS_D. БАЛЛ linear.top1000_new.xlsx',\n",
       " 'HADS_D_КАТЕГОРИЯ logistic.top1000_new.xlsx',\n",
       " 'HADS_D_субклиническая депрессия logistic.top1000_new.xlsx',\n",
       " 'ангедония logistic.top1000_new.xlsx',\n",
       " 'гиперсомния logistic.top1000_new.xlsx',\n",
       " 'гиперсомния плюс гиперфагия logistic.top1000_new.xlsx',\n",
       " 'гиперфагия logistic.top1000_new.xlsx',\n",
       " 'любой фенотип logistic.top1000_new.xlsx']"
      ]
     },
     "execution_count": 21,
     "metadata": {},
     "output_type": "execute_result"
    }
   ],
   "source": [
    "lists"
   ]
  },
  {
   "cell_type": "code",
   "execution_count": 25,
   "id": "73d98989-3a2f-47ea-ad60-cfdd0e59dc5f",
   "metadata": {},
   "outputs": [],
   "source": [
    "lists = [i.replace('.xlsx', '') for i in lists]"
   ]
  },
  {
   "cell_type": "code",
   "execution_count": 27,
   "id": "d88f8a42-04fc-4a13-8e08-7cfdb5df688d",
   "metadata": {},
   "outputs": [],
   "source": [
    "gwas = {}\n",
    "for i in lists:\n",
    "    gwas[i] = pd.read_excel(f'GWAS/{i}.xlsx')"
   ]
  },
  {
   "cell_type": "code",
   "execution_count": 28,
   "id": "81f9ed53-8a86-4653-bea7-14144c7274aa",
   "metadata": {},
   "outputs": [],
   "source": [
    "for k, v in gwas.items():\n",
    "    gwas[k]['RSID'] = gwas[k]['RSID'].replace(',chr.+[AGTC]', '', regex = True)\n",
    "    gwas[k]['RSID'] = gwas[k]['RSID'].replace(';rs\\d+', '', regex = True)"
   ]
  },
  {
   "cell_type": "markdown",
   "id": "a39740dc-fc95-4c95-814f-f9ef63dc9a79",
   "metadata": {},
   "source": [
    "# Анализ значимых snp и оценка репликации"
   ]
  },
  {
   "cell_type": "code",
   "execution_count": 45,
   "id": "f0300ad7-2ef4-4cf9-807d-c29840dd9d86",
   "metadata": {},
   "outputs": [],
   "source": [
    "def significant_snps(df):\n",
    "    significant_rs = df[df['P'] < 1e-5]\n",
    "    return significant_rs"
   ]
  },
  {
   "cell_type": "code",
   "execution_count": null,
   "id": "d8d61283-4e71-41f0-be25-deabf357461c",
   "metadata": {},
   "outputs": [],
   "source": []
  },
  {
   "cell_type": "code",
   "execution_count": 46,
   "id": "d9e8953c-896e-4086-8eb1-9d18cb95139b",
   "metadata": {},
   "outputs": [],
   "source": [
    "for k, v in gwas.items():\n",
    "    gwas[k]['RSID'] = gwas[k]['RSID'].replace(',chr.+[AGTC]', '', regex = True)\n",
    "    significant_rs = significant_snps(gwas[k])\n",
    "    significant_rs.to_csv(f'Results/0 SignificantRS/SignificantRS_{k}.csv')"
   ]
  },
  {
   "cell_type": "code",
   "execution_count": 47,
   "id": "21404a33-25c6-4569-9061-532a6ae60606",
   "metadata": {},
   "outputs": [],
   "source": [
    "def replication_snps(df):\n",
    "    import pandasgwas as pg\n",
    "    #significant_rs = df[df['P'] < 1e-5]\n",
    "    significant_rs = df\n",
    "    source_id = pg.get_variants_by_efo_id('EFO_0006788').variants\n",
    "    for i in ['EFO_0005230', 'EFO_0005230', 'EFO_0003756', 'EFO_0007795', 'EFO_0009863', 'EFO_0003761', 'EFO_0009854', 'EFO_0010098', 'EFO_0004262', 'EFO_0004257', 'EFO_0009458', 'EFO_0000677', 'EFO_0003761', 'EFO_0001358', 'EFO_0004247', 'EFO_0007704', 'EFO_0007006', 'MONDO_0004985', 'EFO_0007634', 'EFO_0009963']:\n",
    "        source_id = pd.concat([source_id, pg.get_variants_by_efo_id(i).variants])\n",
    "    for i in ['20800221', '34985809', '35879288', '30626913', '33106475', '36750733', '29071344', '27479909', '34924174', '33859377', '25390645', '34634379', '35181757', '33859377']:\n",
    "        source_id = pd.concat([source_id, pg.get_variants_by_pubmed_id(i).variants])\n",
    "    replicated_snps = significant_rs[significant_rs['RSID'].isin(source_id['rsId'])]\n",
    "    gene_replication = significant_rs['GENE_NAME'].value_counts()\n",
    "    replicated_genes = gene_replication[gene_replication > 1]\n",
    "    return replicated_snps, replicated_genes"
   ]
  },
  {
   "cell_type": "code",
   "execution_count": 48,
   "id": "223108ef-0355-4e38-ac10-8a5f712c1fae",
   "metadata": {
    "collapsed": true,
    "jupyter": {
     "outputs_hidden": true
    },
    "tags": []
   },
   "outputs": [
    {
     "name": "stderr",
     "output_type": "stream",
     "text": [
      "\u001b[38;2;0;255;0m100%\u001b[39m \u001b[38;2;0;255;0m(1 of 1)\u001b[39m |##########################| Elapsed Time: 0:00:00 Time:  0:00:00\n",
      "\u001b[38;2;0;255;0m100%\u001b[39m \u001b[38;2;0;255;0m(1 of 1)\u001b[39m |##########################| Elapsed Time: 0:00:00 Time:  0:00:00\n",
      "\u001b[38;2;0;255;0m100%\u001b[39m \u001b[38;2;0;255;0m(4 of 4)\u001b[39m |##########################| Elapsed Time: 0:00:00 Time:  0:00:00\n",
      "\u001b[38;2;0;255;0m100%\u001b[39m \u001b[38;2;0;255;0m(2 of 2)\u001b[39m |##########################| Elapsed Time: 0:00:00 Time:  0:00:00\n",
      "\u001b[38;2;0;255;0m100%\u001b[39m \u001b[38;2;0;255;0m(2 of 2)\u001b[39m |##########################| Elapsed Time: 0:00:00 Time:  0:00:00\n",
      "\u001b[38;2;0;255;0m100%\u001b[39m \u001b[38;2;0;255;0m(2 of 2)\u001b[39m |##########################| Elapsed Time: 0:00:00 Time:  0:00:00\n",
      "\u001b[38;2;0;255;0m100%\u001b[39m \u001b[38;2;0;255;0m(6 of 6)\u001b[39m |##########################| Elapsed Time: 0:00:00 Time:  0:00:00\n",
      "\u001b[38;2;0;255;0m100%\u001b[39m \u001b[38;2;0;255;0m(5 of 5)\u001b[39m |##########################| Elapsed Time: 0:00:00 Time:  0:00:00\n",
      "\u001b[38;2;0;255;0m100%\u001b[39m \u001b[38;2;0;255;0m(13 of 13)\u001b[39m |########################| Elapsed Time: 0:00:00 Time:  0:00:00\n",
      "\u001b[38;2;0;255;0m100%\u001b[39m \u001b[38;2;0;255;0m(3 of 3)\u001b[39m |##########################| Elapsed Time: 0:00:00 Time:  0:00:00\n",
      "\u001b[38;2;0;255;0m100%\u001b[39m \u001b[38;2;0;255;0m(5 of 5)\u001b[39m |##########################| Elapsed Time: 0:00:00 Time:  0:00:00\n",
      "\u001b[38;2;0;255;0m100%\u001b[39m \u001b[38;2;0;255;0m(1 of 1)\u001b[39m |##########################| Elapsed Time: 0:00:00 Time:  0:00:00\n",
      "\u001b[38;2;0;255;0m100%\u001b[39m \u001b[38;2;0;255;0m(1 of 1)\u001b[39m |##########################| Elapsed Time: 0:00:00 Time:  0:00:00\n",
      "\u001b[38;2;0;255;0m100%\u001b[39m \u001b[38;2;0;255;0m(4 of 4)\u001b[39m |##########################| Elapsed Time: 0:00:00 Time:  0:00:00\n",
      "\u001b[38;2;0;255;0m100%\u001b[39m \u001b[38;2;0;255;0m(2 of 2)\u001b[39m |##########################| Elapsed Time: 0:00:00 Time:  0:00:00\n",
      "\u001b[38;2;0;255;0m100%\u001b[39m \u001b[38;2;0;255;0m(2 of 2)\u001b[39m |##########################| Elapsed Time: 0:00:00 Time:  0:00:00\n",
      "\u001b[38;2;0;255;0m100%\u001b[39m \u001b[38;2;0;255;0m(2 of 2)\u001b[39m |##########################| Elapsed Time: 0:00:00 Time:  0:00:00\n",
      "\u001b[38;2;0;255;0m100%\u001b[39m \u001b[38;2;0;255;0m(6 of 6)\u001b[39m |##########################| Elapsed Time: 0:00:00 Time:  0:00:00\n",
      "\u001b[38;2;0;255;0m100%\u001b[39m \u001b[38;2;0;255;0m(5 of 5)\u001b[39m |##########################| Elapsed Time: 0:00:00 Time:  0:00:00\n",
      "\u001b[38;2;0;255;0m100%\u001b[39m \u001b[38;2;0;255;0m(13 of 13)\u001b[39m |########################| Elapsed Time: 0:00:00 Time:  0:00:00\n",
      "\u001b[38;2;0;255;0m100%\u001b[39m \u001b[38;2;0;255;0m(3 of 3)\u001b[39m |##########################| Elapsed Time: 0:00:00 Time:  0:00:00\n",
      "\u001b[38;2;0;255;0m100%\u001b[39m \u001b[38;2;0;255;0m(5 of 5)\u001b[39m |##########################| Elapsed Time: 0:00:00 Time:  0:00:00\n",
      "\u001b[38;2;0;255;0m100%\u001b[39m \u001b[38;2;0;255;0m(1 of 1)\u001b[39m |##########################| Elapsed Time: 0:00:00 Time:  0:00:00\n",
      "\u001b[38;2;0;255;0m100%\u001b[39m \u001b[38;2;0;255;0m(1 of 1)\u001b[39m |##########################| Elapsed Time: 0:00:00 Time:  0:00:00\n",
      "\u001b[38;2;0;255;0m100%\u001b[39m \u001b[38;2;0;255;0m(4 of 4)\u001b[39m |##########################| Elapsed Time: 0:00:00 Time:  0:00:00\n",
      "\u001b[38;2;0;255;0m100%\u001b[39m \u001b[38;2;0;255;0m(2 of 2)\u001b[39m |##########################| Elapsed Time: 0:00:00 Time:  0:00:00\n",
      "\u001b[38;2;0;255;0m100%\u001b[39m \u001b[38;2;0;255;0m(2 of 2)\u001b[39m |##########################| Elapsed Time: 0:00:00 Time:  0:00:00\n",
      "\u001b[38;2;0;255;0m100%\u001b[39m \u001b[38;2;0;255;0m(2 of 2)\u001b[39m |##########################| Elapsed Time: 0:00:00 Time:  0:00:00\n",
      "\u001b[38;2;0;255;0m100%\u001b[39m \u001b[38;2;0;255;0m(6 of 6)\u001b[39m |##########################| Elapsed Time: 0:00:00 Time:  0:00:00\n",
      "\u001b[38;2;0;255;0m100%\u001b[39m \u001b[38;2;0;255;0m(5 of 5)\u001b[39m |##########################| Elapsed Time: 0:00:00 Time:  0:00:00\n",
      "\u001b[38;2;0;255;0m100%\u001b[39m \u001b[38;2;0;255;0m(13 of 13)\u001b[39m |########################| Elapsed Time: 0:00:00 Time:  0:00:00\n",
      "\u001b[38;2;0;255;0m100%\u001b[39m \u001b[38;2;0;255;0m(3 of 3)\u001b[39m |##########################| Elapsed Time: 0:00:00 Time:  0:00:00\n",
      "\u001b[38;2;0;255;0m100%\u001b[39m \u001b[38;2;0;255;0m(5 of 5)\u001b[39m |##########################| Elapsed Time: 0:00:00 Time:  0:00:00\n",
      "\u001b[38;2;0;255;0m100%\u001b[39m \u001b[38;2;0;255;0m(1 of 1)\u001b[39m |##########################| Elapsed Time: 0:00:00 Time:  0:00:00\n",
      "\u001b[38;2;0;255;0m100%\u001b[39m \u001b[38;2;0;255;0m(1 of 1)\u001b[39m |##########################| Elapsed Time: 0:00:00 Time:  0:00:00\n",
      "\u001b[38;2;0;255;0m100%\u001b[39m \u001b[38;2;0;255;0m(4 of 4)\u001b[39m |##########################| Elapsed Time: 0:00:00 Time:  0:00:00\n",
      "\u001b[38;2;0;255;0m100%\u001b[39m \u001b[38;2;0;255;0m(2 of 2)\u001b[39m |##########################| Elapsed Time: 0:00:00 Time:  0:00:00\n",
      "\u001b[38;2;0;255;0m100%\u001b[39m \u001b[38;2;0;255;0m(2 of 2)\u001b[39m |##########################| Elapsed Time: 0:00:00 Time:  0:00:00\n",
      "\u001b[38;2;0;255;0m100%\u001b[39m \u001b[38;2;0;255;0m(2 of 2)\u001b[39m |##########################| Elapsed Time: 0:00:00 Time:  0:00:00\n",
      "\u001b[38;2;0;255;0m100%\u001b[39m \u001b[38;2;0;255;0m(6 of 6)\u001b[39m |##########################| Elapsed Time: 0:00:00 Time:  0:00:00\n",
      "\u001b[38;2;0;255;0m100%\u001b[39m \u001b[38;2;0;255;0m(5 of 5)\u001b[39m |##########################| Elapsed Time: 0:00:00 Time:  0:00:00\n",
      "\u001b[38;2;0;255;0m100%\u001b[39m \u001b[38;2;0;255;0m(13 of 13)\u001b[39m |########################| Elapsed Time: 0:00:00 Time:  0:00:00\n",
      "\u001b[38;2;0;255;0m100%\u001b[39m \u001b[38;2;0;255;0m(3 of 3)\u001b[39m |##########################| Elapsed Time: 0:00:00 Time:  0:00:00\n",
      "\u001b[38;2;0;255;0m100%\u001b[39m \u001b[38;2;0;255;0m(5 of 5)\u001b[39m |##########################| Elapsed Time: 0:00:00 Time:  0:00:00\n",
      "\u001b[38;2;0;255;0m100%\u001b[39m \u001b[38;2;0;255;0m(1 of 1)\u001b[39m |##########################| Elapsed Time: 0:00:00 Time:  0:00:00\n",
      "\u001b[38;2;0;255;0m100%\u001b[39m \u001b[38;2;0;255;0m(1 of 1)\u001b[39m |##########################| Elapsed Time: 0:00:00 Time:  0:00:00\n",
      "\u001b[38;2;0;255;0m100%\u001b[39m \u001b[38;2;0;255;0m(4 of 4)\u001b[39m |##########################| Elapsed Time: 0:00:00 Time:  0:00:00\n",
      "\u001b[38;2;0;255;0m100%\u001b[39m \u001b[38;2;0;255;0m(2 of 2)\u001b[39m |##########################| Elapsed Time: 0:00:00 Time:  0:00:00\n",
      "\u001b[38;2;0;255;0m100%\u001b[39m \u001b[38;2;0;255;0m(2 of 2)\u001b[39m |##########################| Elapsed Time: 0:00:00 Time:  0:00:00\n",
      "\u001b[38;2;0;255;0m100%\u001b[39m \u001b[38;2;0;255;0m(2 of 2)\u001b[39m |##########################| Elapsed Time: 0:00:00 Time:  0:00:00\n",
      "\u001b[38;2;0;255;0m100%\u001b[39m \u001b[38;2;0;255;0m(6 of 6)\u001b[39m |##########################| Elapsed Time: 0:00:00 Time:  0:00:00\n",
      "\u001b[38;2;0;255;0m100%\u001b[39m \u001b[38;2;0;255;0m(5 of 5)\u001b[39m |##########################| Elapsed Time: 0:00:00 Time:  0:00:00\n",
      "\u001b[38;2;0;255;0m100%\u001b[39m \u001b[38;2;0;255;0m(13 of 13)\u001b[39m |########################| Elapsed Time: 0:00:00 Time:  0:00:00\n",
      "\u001b[38;2;0;255;0m100%\u001b[39m \u001b[38;2;0;255;0m(3 of 3)\u001b[39m |##########################| Elapsed Time: 0:00:00 Time:  0:00:00\n",
      "\u001b[38;2;0;255;0m100%\u001b[39m \u001b[38;2;0;255;0m(5 of 5)\u001b[39m |##########################| Elapsed Time: 0:00:00 Time:  0:00:00\n",
      "\u001b[38;2;0;255;0m100%\u001b[39m \u001b[38;2;0;255;0m(1 of 1)\u001b[39m |##########################| Elapsed Time: 0:00:00 Time:  0:00:00\n",
      "\u001b[38;2;0;255;0m100%\u001b[39m \u001b[38;2;0;255;0m(1 of 1)\u001b[39m |##########################| Elapsed Time: 0:00:00 Time:  0:00:00\n",
      "\u001b[38;2;0;255;0m100%\u001b[39m \u001b[38;2;0;255;0m(4 of 4)\u001b[39m |##########################| Elapsed Time: 0:00:00 Time:  0:00:00\n",
      "\u001b[38;2;0;255;0m100%\u001b[39m \u001b[38;2;0;255;0m(2 of 2)\u001b[39m |##########################| Elapsed Time: 0:00:00 Time:  0:00:00\n",
      "\u001b[38;2;0;255;0m100%\u001b[39m \u001b[38;2;0;255;0m(2 of 2)\u001b[39m |##########################| Elapsed Time: 0:00:00 Time:  0:00:00\n",
      "\u001b[38;2;0;255;0m100%\u001b[39m \u001b[38;2;0;255;0m(2 of 2)\u001b[39m |##########################| Elapsed Time: 0:00:00 Time:  0:00:00\n",
      "\u001b[38;2;0;255;0m100%\u001b[39m \u001b[38;2;0;255;0m(6 of 6)\u001b[39m |##########################| Elapsed Time: 0:00:00 Time:  0:00:00\n",
      "\u001b[38;2;0;255;0m100%\u001b[39m \u001b[38;2;0;255;0m(5 of 5)\u001b[39m |##########################| Elapsed Time: 0:00:00 Time:  0:00:00\n",
      "\u001b[38;2;0;255;0m100%\u001b[39m \u001b[38;2;0;255;0m(13 of 13)\u001b[39m |########################| Elapsed Time: 0:00:00 Time:  0:00:00\n",
      "\u001b[38;2;0;255;0m100%\u001b[39m \u001b[38;2;0;255;0m(3 of 3)\u001b[39m |##########################| Elapsed Time: 0:00:00 Time:  0:00:00\n",
      "\u001b[38;2;0;255;0m100%\u001b[39m \u001b[38;2;0;255;0m(5 of 5)\u001b[39m |##########################| Elapsed Time: 0:00:00 Time:  0:00:00\n",
      "\u001b[38;2;0;255;0m100%\u001b[39m \u001b[38;2;0;255;0m(1 of 1)\u001b[39m |##########################| Elapsed Time: 0:00:00 Time:  0:00:00\n",
      "\u001b[38;2;0;255;0m100%\u001b[39m \u001b[38;2;0;255;0m(1 of 1)\u001b[39m |##########################| Elapsed Time: 0:00:00 Time:  0:00:00\n",
      "\u001b[38;2;0;255;0m100%\u001b[39m \u001b[38;2;0;255;0m(4 of 4)\u001b[39m |##########################| Elapsed Time: 0:00:00 Time:  0:00:00\n",
      "\u001b[38;2;0;255;0m100%\u001b[39m \u001b[38;2;0;255;0m(2 of 2)\u001b[39m |##########################| Elapsed Time: 0:00:00 Time:  0:00:00\n",
      "\u001b[38;2;0;255;0m100%\u001b[39m \u001b[38;2;0;255;0m(2 of 2)\u001b[39m |##########################| Elapsed Time: 0:00:00 Time:  0:00:00\n",
      "\u001b[38;2;0;255;0m100%\u001b[39m \u001b[38;2;0;255;0m(2 of 2)\u001b[39m |##########################| Elapsed Time: 0:00:00 Time:  0:00:00\n",
      "\u001b[38;2;0;255;0m100%\u001b[39m \u001b[38;2;0;255;0m(6 of 6)\u001b[39m |##########################| Elapsed Time: 0:00:00 Time:  0:00:00\n",
      "\u001b[38;2;0;255;0m100%\u001b[39m \u001b[38;2;0;255;0m(5 of 5)\u001b[39m |##########################| Elapsed Time: 0:00:00 Time:  0:00:00\n",
      "\u001b[38;2;0;255;0m100%\u001b[39m \u001b[38;2;0;255;0m(13 of 13)\u001b[39m |########################| Elapsed Time: 0:00:00 Time:  0:00:00\n",
      "\u001b[38;2;0;255;0m100%\u001b[39m \u001b[38;2;0;255;0m(3 of 3)\u001b[39m |##########################| Elapsed Time: 0:00:00 Time:  0:00:00\n",
      "\u001b[38;2;0;255;0m100%\u001b[39m \u001b[38;2;0;255;0m(5 of 5)\u001b[39m |##########################| Elapsed Time: 0:00:00 Time:  0:00:00\n",
      "\u001b[38;2;0;255;0m100%\u001b[39m \u001b[38;2;0;255;0m(1 of 1)\u001b[39m |##########################| Elapsed Time: 0:00:00 Time:  0:00:00\n",
      "\u001b[38;2;0;255;0m100%\u001b[39m \u001b[38;2;0;255;0m(1 of 1)\u001b[39m |##########################| Elapsed Time: 0:00:00 Time:  0:00:00\n",
      "\u001b[38;2;0;255;0m100%\u001b[39m \u001b[38;2;0;255;0m(4 of 4)\u001b[39m |##########################| Elapsed Time: 0:00:00 Time:  0:00:00\n",
      "\u001b[38;2;0;255;0m100%\u001b[39m \u001b[38;2;0;255;0m(2 of 2)\u001b[39m |##########################| Elapsed Time: 0:00:00 Time:  0:00:00\n",
      "\u001b[38;2;0;255;0m100%\u001b[39m \u001b[38;2;0;255;0m(2 of 2)\u001b[39m |##########################| Elapsed Time: 0:00:00 Time:  0:00:00\n",
      "\u001b[38;2;0;255;0m100%\u001b[39m \u001b[38;2;0;255;0m(2 of 2)\u001b[39m |##########################| Elapsed Time: 0:00:00 Time:  0:00:00\n",
      "\u001b[38;2;0;255;0m100%\u001b[39m \u001b[38;2;0;255;0m(6 of 6)\u001b[39m |##########################| Elapsed Time: 0:00:00 Time:  0:00:00\n",
      "\u001b[38;2;0;255;0m100%\u001b[39m \u001b[38;2;0;255;0m(5 of 5)\u001b[39m |##########################| Elapsed Time: 0:00:00 Time:  0:00:00\n",
      "\u001b[38;2;0;255;0m100%\u001b[39m \u001b[38;2;0;255;0m(13 of 13)\u001b[39m |########################| Elapsed Time: 0:00:00 Time:  0:00:00\n",
      "\u001b[38;2;0;255;0m100%\u001b[39m \u001b[38;2;0;255;0m(3 of 3)\u001b[39m |##########################| Elapsed Time: 0:00:00 Time:  0:00:00\n",
      "\u001b[38;2;0;255;0m100%\u001b[39m \u001b[38;2;0;255;0m(5 of 5)\u001b[39m |##########################| Elapsed Time: 0:00:00 Time:  0:00:00\n",
      "\u001b[38;2;0;255;0m100%\u001b[39m \u001b[38;2;0;255;0m(1 of 1)\u001b[39m |##########################| Elapsed Time: 0:00:00 Time:  0:00:00\n",
      "\u001b[38;2;0;255;0m100%\u001b[39m \u001b[38;2;0;255;0m(1 of 1)\u001b[39m |##########################| Elapsed Time: 0:00:00 Time:  0:00:00\n",
      "\u001b[38;2;0;255;0m100%\u001b[39m \u001b[38;2;0;255;0m(4 of 4)\u001b[39m |##########################| Elapsed Time: 0:00:00 Time:  0:00:00\n",
      "\u001b[38;2;0;255;0m100%\u001b[39m \u001b[38;2;0;255;0m(2 of 2)\u001b[39m |##########################| Elapsed Time: 0:00:00 Time:  0:00:00\n",
      "\u001b[38;2;0;255;0m100%\u001b[39m \u001b[38;2;0;255;0m(2 of 2)\u001b[39m |##########################| Elapsed Time: 0:00:00 Time:  0:00:00\n",
      "\u001b[38;2;0;255;0m100%\u001b[39m \u001b[38;2;0;255;0m(2 of 2)\u001b[39m |##########################| Elapsed Time: 0:00:00 Time:  0:00:00\n",
      "\u001b[38;2;0;255;0m100%\u001b[39m \u001b[38;2;0;255;0m(6 of 6)\u001b[39m |##########################| Elapsed Time: 0:00:00 Time:  0:00:00\n",
      "\u001b[38;2;0;255;0m100%\u001b[39m \u001b[38;2;0;255;0m(5 of 5)\u001b[39m |##########################| Elapsed Time: 0:00:00 Time:  0:00:00\n",
      "\u001b[38;2;0;255;0m100%\u001b[39m \u001b[38;2;0;255;0m(13 of 13)\u001b[39m |########################| Elapsed Time: 0:00:00 Time:  0:00:00\n",
      "\u001b[38;2;0;255;0m100%\u001b[39m \u001b[38;2;0;255;0m(3 of 3)\u001b[39m |##########################| Elapsed Time: 0:00:00 Time:  0:00:00\n",
      "\u001b[38;2;0;255;0m100%\u001b[39m \u001b[38;2;0;255;0m(5 of 5)\u001b[39m |##########################| Elapsed Time: 0:00:00 Time:  0:00:00\n",
      "\u001b[38;2;0;255;0m100%\u001b[39m \u001b[38;2;0;255;0m(1 of 1)\u001b[39m |##########################| Elapsed Time: 0:00:00 Time:  0:00:00\n",
      "\u001b[38;2;0;255;0m100%\u001b[39m \u001b[38;2;0;255;0m(1 of 1)\u001b[39m |##########################| Elapsed Time: 0:00:00 Time:  0:00:00\n",
      "\u001b[38;2;0;255;0m100%\u001b[39m \u001b[38;2;0;255;0m(4 of 4)\u001b[39m |##########################| Elapsed Time: 0:00:00 Time:  0:00:00\n",
      "\u001b[38;2;0;255;0m100%\u001b[39m \u001b[38;2;0;255;0m(2 of 2)\u001b[39m |##########################| Elapsed Time: 0:00:00 Time:  0:00:00\n",
      "\u001b[38;2;0;255;0m100%\u001b[39m \u001b[38;2;0;255;0m(2 of 2)\u001b[39m |##########################| Elapsed Time: 0:00:00 Time:  0:00:00\n",
      "\u001b[38;2;0;255;0m100%\u001b[39m \u001b[38;2;0;255;0m(2 of 2)\u001b[39m |##########################| Elapsed Time: 0:00:00 Time:  0:00:00\n",
      "\u001b[38;2;0;255;0m100%\u001b[39m \u001b[38;2;0;255;0m(6 of 6)\u001b[39m |##########################| Elapsed Time: 0:00:00 Time:  0:00:00\n",
      "\u001b[38;2;0;255;0m100%\u001b[39m \u001b[38;2;0;255;0m(5 of 5)\u001b[39m |##########################| Elapsed Time: 0:00:00 Time:  0:00:00\n",
      "\u001b[38;2;0;255;0m100%\u001b[39m \u001b[38;2;0;255;0m(13 of 13)\u001b[39m |########################| Elapsed Time: 0:00:00 Time:  0:00:00\n",
      "\u001b[38;2;0;255;0m100%\u001b[39m \u001b[38;2;0;255;0m(3 of 3)\u001b[39m |##########################| Elapsed Time: 0:00:00 Time:  0:00:00\n",
      "\u001b[38;2;0;255;0m100%\u001b[39m \u001b[38;2;0;255;0m(5 of 5)\u001b[39m |##########################| Elapsed Time: 0:00:00 Time:  0:00:00\n",
      "\u001b[38;2;0;255;0m100%\u001b[39m \u001b[38;2;0;255;0m(1 of 1)\u001b[39m |##########################| Elapsed Time: 0:00:00 Time:  0:00:00\n",
      "\u001b[38;2;0;255;0m100%\u001b[39m \u001b[38;2;0;255;0m(1 of 1)\u001b[39m |##########################| Elapsed Time: 0:00:00 Time:  0:00:00\n",
      "\u001b[38;2;0;255;0m100%\u001b[39m \u001b[38;2;0;255;0m(4 of 4)\u001b[39m |##########################| Elapsed Time: 0:00:00 Time:  0:00:00\n",
      "\u001b[38;2;0;255;0m100%\u001b[39m \u001b[38;2;0;255;0m(2 of 2)\u001b[39m |##########################| Elapsed Time: 0:00:00 Time:  0:00:00\n",
      "\u001b[38;2;0;255;0m100%\u001b[39m \u001b[38;2;0;255;0m(2 of 2)\u001b[39m |##########################| Elapsed Time: 0:00:00 Time:  0:00:00\n",
      "\u001b[38;2;0;255;0m100%\u001b[39m \u001b[38;2;0;255;0m(2 of 2)\u001b[39m |##########################| Elapsed Time: 0:00:00 Time:  0:00:00\n",
      "\u001b[38;2;0;255;0m100%\u001b[39m \u001b[38;2;0;255;0m(6 of 6)\u001b[39m |##########################| Elapsed Time: 0:00:00 Time:  0:00:00\n",
      "\u001b[38;2;0;255;0m100%\u001b[39m \u001b[38;2;0;255;0m(5 of 5)\u001b[39m |##########################| Elapsed Time: 0:00:00 Time:  0:00:00\n",
      "\u001b[38;2;0;255;0m100%\u001b[39m \u001b[38;2;0;255;0m(13 of 13)\u001b[39m |########################| Elapsed Time: 0:00:00 Time:  0:00:00\n",
      "\u001b[38;2;0;255;0m100%\u001b[39m \u001b[38;2;0;255;0m(3 of 3)\u001b[39m |##########################| Elapsed Time: 0:00:00 Time:  0:00:00\n",
      "\u001b[38;2;0;255;0m100%\u001b[39m \u001b[38;2;0;255;0m(5 of 5)\u001b[39m |##########################| Elapsed Time: 0:00:00 Time:  0:00:00\n",
      "\u001b[38;2;0;255;0m100%\u001b[39m \u001b[38;2;0;255;0m(1 of 1)\u001b[39m |##########################| Elapsed Time: 0:00:00 Time:  0:00:00\n",
      "\u001b[38;2;0;255;0m100%\u001b[39m \u001b[38;2;0;255;0m(1 of 1)\u001b[39m |##########################| Elapsed Time: 0:00:00 Time:  0:00:00\n",
      "\u001b[38;2;0;255;0m100%\u001b[39m \u001b[38;2;0;255;0m(4 of 4)\u001b[39m |##########################| Elapsed Time: 0:00:00 Time:  0:00:00\n",
      "\u001b[38;2;0;255;0m100%\u001b[39m \u001b[38;2;0;255;0m(2 of 2)\u001b[39m |##########################| Elapsed Time: 0:00:00 Time:  0:00:00\n",
      "\u001b[38;2;0;255;0m100%\u001b[39m \u001b[38;2;0;255;0m(2 of 2)\u001b[39m |##########################| Elapsed Time: 0:00:00 Time:  0:00:00\n",
      "\u001b[38;2;0;255;0m100%\u001b[39m \u001b[38;2;0;255;0m(2 of 2)\u001b[39m |##########################| Elapsed Time: 0:00:00 Time:  0:00:00\n",
      "\u001b[38;2;0;255;0m100%\u001b[39m \u001b[38;2;0;255;0m(6 of 6)\u001b[39m |##########################| Elapsed Time: 0:00:00 Time:  0:00:00\n",
      "\u001b[38;2;0;255;0m100%\u001b[39m \u001b[38;2;0;255;0m(5 of 5)\u001b[39m |##########################| Elapsed Time: 0:00:00 Time:  0:00:00\n",
      "\u001b[38;2;0;255;0m100%\u001b[39m \u001b[38;2;0;255;0m(13 of 13)\u001b[39m |########################| Elapsed Time: 0:00:00 Time:  0:00:00\n",
      "\u001b[38;2;0;255;0m100%\u001b[39m \u001b[38;2;0;255;0m(3 of 3)\u001b[39m |##########################| Elapsed Time: 0:00:00 Time:  0:00:00\n",
      "\u001b[38;2;0;255;0m100%\u001b[39m \u001b[38;2;0;255;0m(5 of 5)\u001b[39m |##########################| Elapsed Time: 0:00:00 Time:  0:00:00\n",
      "\u001b[38;2;0;255;0m100%\u001b[39m \u001b[38;2;0;255;0m(1 of 1)\u001b[39m |##########################| Elapsed Time: 0:00:00 Time:  0:00:00\n",
      "\u001b[38;2;0;255;0m100%\u001b[39m \u001b[38;2;0;255;0m(1 of 1)\u001b[39m |##########################| Elapsed Time: 0:00:00 Time:  0:00:00\n",
      "\u001b[38;2;0;255;0m100%\u001b[39m \u001b[38;2;0;255;0m(4 of 4)\u001b[39m |##########################| Elapsed Time: 0:00:00 Time:  0:00:00\n",
      "\u001b[38;2;0;255;0m100%\u001b[39m \u001b[38;2;0;255;0m(2 of 2)\u001b[39m |##########################| Elapsed Time: 0:00:00 Time:  0:00:00\n",
      "\u001b[38;2;0;255;0m100%\u001b[39m \u001b[38;2;0;255;0m(2 of 2)\u001b[39m |##########################| Elapsed Time: 0:00:00 Time:  0:00:00\n",
      "\u001b[38;2;0;255;0m100%\u001b[39m \u001b[38;2;0;255;0m(2 of 2)\u001b[39m |##########################| Elapsed Time: 0:00:00 Time:  0:00:00\n",
      "\u001b[38;2;0;255;0m100%\u001b[39m \u001b[38;2;0;255;0m(6 of 6)\u001b[39m |##########################| Elapsed Time: 0:00:00 Time:  0:00:00\n",
      "\u001b[38;2;0;255;0m100%\u001b[39m \u001b[38;2;0;255;0m(5 of 5)\u001b[39m |##########################| Elapsed Time: 0:00:00 Time:  0:00:00\n",
      "\u001b[38;2;0;255;0m100%\u001b[39m \u001b[38;2;0;255;0m(13 of 13)\u001b[39m |########################| Elapsed Time: 0:00:00 Time:  0:00:00\n",
      "\u001b[38;2;0;255;0m100%\u001b[39m \u001b[38;2;0;255;0m(3 of 3)\u001b[39m |##########################| Elapsed Time: 0:00:00 Time:  0:00:00\n",
      "\u001b[38;2;0;255;0m100%\u001b[39m \u001b[38;2;0;255;0m(5 of 5)\u001b[39m |##########################| Elapsed Time: 0:00:00 Time:  0:00:00\n",
      "\u001b[38;2;0;255;0m100%\u001b[39m \u001b[38;2;0;255;0m(1 of 1)\u001b[39m |##########################| Elapsed Time: 0:00:00 Time:  0:00:00\n",
      "\u001b[38;2;0;255;0m100%\u001b[39m \u001b[38;2;0;255;0m(1 of 1)\u001b[39m |##########################| Elapsed Time: 0:00:00 Time:  0:00:00\n",
      "\u001b[38;2;0;255;0m100%\u001b[39m \u001b[38;2;0;255;0m(4 of 4)\u001b[39m |##########################| Elapsed Time: 0:00:00 Time:  0:00:00\n",
      "\u001b[38;2;0;255;0m100%\u001b[39m \u001b[38;2;0;255;0m(2 of 2)\u001b[39m |##########################| Elapsed Time: 0:00:00 Time:  0:00:00\n",
      "\u001b[38;2;0;255;0m100%\u001b[39m \u001b[38;2;0;255;0m(2 of 2)\u001b[39m |##########################| Elapsed Time: 0:00:00 Time:  0:00:00\n",
      "\u001b[38;2;0;255;0m100%\u001b[39m \u001b[38;2;0;255;0m(2 of 2)\u001b[39m |##########################| Elapsed Time: 0:00:00 Time:  0:00:00\n",
      "\u001b[38;2;0;255;0m100%\u001b[39m \u001b[38;2;0;255;0m(6 of 6)\u001b[39m |##########################| Elapsed Time: 0:00:00 Time:  0:00:00\n",
      "\u001b[38;2;0;255;0m100%\u001b[39m \u001b[38;2;0;255;0m(5 of 5)\u001b[39m |##########################| Elapsed Time: 0:00:00 Time:  0:00:00\n",
      "\u001b[38;2;0;255;0m100%\u001b[39m \u001b[38;2;0;255;0m(13 of 13)\u001b[39m |########################| Elapsed Time: 0:00:00 Time:  0:00:00\n",
      "\u001b[38;2;0;255;0m100%\u001b[39m \u001b[38;2;0;255;0m(3 of 3)\u001b[39m |##########################| Elapsed Time: 0:00:00 Time:  0:00:00\n",
      "\u001b[38;2;0;255;0m100%\u001b[39m \u001b[38;2;0;255;0m(5 of 5)\u001b[39m |##########################| Elapsed Time: 0:00:00 Time:  0:00:00\n"
     ]
    }
   ],
   "source": [
    "for k, v in gwas.items():\n",
    "    gwas[k]['RSID'] = gwas[k]['RSID'].replace(',chr.+[AGTC]', '', regex = True)\n",
    "    replications_rs, replications_genes = replication_snps(gwas[k])\n",
    "    replications_rs.to_csv(f'Results/1 ReplicatedRS/ReplicatedRS_{k}.csv')\n",
    "    replications_rs.to_csv(f'Results/1 ReplicatedRS/ReplicatedGENES_{k}.csv')"
   ]
  },
  {
   "cell_type": "markdown",
   "id": "db3b37e2-b5f3-4355-b500-0e1c276f1c88",
   "metadata": {},
   "source": [
    "# Анализ распределения вероятность причинности"
   ]
  },
  {
   "cell_type": "code",
   "execution_count": 50,
   "id": "09401612-e1a4-4499-aa89-09356fe38d96",
   "metadata": {},
   "outputs": [],
   "source": [
    "def causal_probability_distributions(df):\n",
    "    data = df[df['P'] < 1e-5]\n",
    "\n",
    "    data = data[['RSID', 'BETA', 'SE']]\n",
    "    data['z'] = data['BETA'] / data['SE']\n",
    "    data['p'] = 2 * (1 - norm.cdf(abs(data['z'])))\n",
    "    prior = 0.01  # априорная вероятность\n",
    "    data['likelihood'] = np.exp(-0.5 * data['z']**2) / (data['SE'] * np.sqrt(2 * np.pi))\n",
    "    data['posterior'] = data['likelihood'] * prior / (data['likelihood'] * prior + (1 - prior))\n",
    "    df = df[df['RSID'].isin(data['RSID'])]\n",
    "    df['Probability'] = data['posterior']\n",
    "    return df.sort_values(by = 'Probability', ascending=False)"
   ]
  },
  {
   "cell_type": "code",
   "execution_count": 51,
   "id": "22918acf-a87f-4b14-b5df-8ff01855a2f4",
   "metadata": {},
   "outputs": [],
   "source": [
    "def causal_probability(df):\n",
    "    data = df[df['P'] < 1e-5]\n",
    "    \n",
    "    data = data[['RSID', 'Z_STAT', 'LOG(OR)_SE']]\n",
    "    data['p'] = 2 * (1 - norm.cdf(abs(data['Z_STAT'])))\n",
    "    prior = 0.01  # априорная вероятность\n",
    "    data['likelihood'] = np.exp(-0.5 * data['Z_STAT']**2) / (data['LOG(OR)_SE'] * np.sqrt(2 * np.pi))\n",
    "    data['posterior'] = data['likelihood'] * prior / (data['likelihood'] * prior + (1 - prior))\n",
    "    df = df[df['RSID'].isin(data['RSID'])]\n",
    "    df['Probability'] = data['posterior']\n",
    "    return df.sort_values(by = 'Probability', ascending=False)"
   ]
  },
  {
   "cell_type": "code",
   "execution_count": 54,
   "id": "b6d1614c-d255-41c5-9cc0-e2b2ad43bb5a",
   "metadata": {},
   "outputs": [],
   "source": [
    "for k, v in gwas.items():\n",
    "    gwas[k]['RSID'] = gwas[k]['RSID'].replace(',chr.+[AGTC]', '', regex = True)\n",
    "    try:\n",
    "        distribution = causal_probability_distributions(gwas[k])\n",
    "        distribution.to_csv(f'Results/2 DistributionRS/DistributionRS_{k}.csv')\n",
    "    except:\n",
    "        distribution = causal_probability(gwas[k])\n",
    "        distribution.to_csv(f'Results/2 DistributionRS/DistributionRS_{k}.csv')"
   ]
  },
  {
   "cell_type": "markdown",
   "id": "2828d4fa-2209-4e90-9f3c-beaf0684e491",
   "metadata": {},
   "source": [
    "# Анализ обогащения"
   ]
  },
  {
   "cell_type": "code",
   "execution_count": 57,
   "id": "d465bf1f-7f5b-40e3-bad3-1757520d1566",
   "metadata": {},
   "outputs": [],
   "source": [
    "def enrich(df):\n",
    "    significant_rs = df[df['P'] < 1e-5]\n",
    "    unique_genes = significant_rs['GENE_NAME'].unique()\n",
    "    unique_genes = [gene for gene in unique_genes if gene != 'intergenic']\n",
    "    import gseapy as gp\n",
    "\n",
    "    enr = gp.enrichr(gene_list=unique_genes,\n",
    "                 organism='human',\n",
    "                 gene_sets=['GO_Biological_Process_2018','KEGG_2019_Human','WikiPathways_2019_Human','GO_Biological_Process_2017b'],\n",
    "                 cutoff = 0.5,\n",
    "                 outdir='enrichr_results')\n",
    "    return enr.results.sort_values(by='Adjusted P-value')"
   ]
  },
  {
   "cell_type": "code",
   "execution_count": 61,
   "id": "27b08441-89ff-4a38-b2ea-5e82a09ebbde",
   "metadata": {},
   "outputs": [],
   "source": [
    "for k, v in gwas.items():\n",
    "    gwas[k]['RSID'] = gwas[k]['RSID'].replace(',chr.+[AGTC]', '', regex = True)\n",
    "    try:\n",
    "        enrichment = enrich(gwas[k])\n",
    "        enrichment.to_csv(f'Results/3 Enrichment/Enrichment_{k}.csv')\n",
    "    except:\n",
    "        continue\n"
   ]
  },
  {
   "cell_type": "markdown",
   "id": "06cf7bcd-3a09-47cf-a4de-da74d4284fc4",
   "metadata": {},
   "source": [
    "# Pathway analysis"
   ]
  },
  {
   "cell_type": "code",
   "execution_count": 63,
   "id": "4c5e02c6-49c7-4367-b765-14f3ec0fcd56",
   "metadata": {},
   "outputs": [],
   "source": [
    "def pathw(df, k):\n",
    "    significant_rs = df[df['P'] < 1e-5]\n",
    "    unique_genes = significant_rs['GENE_NAME'].unique()\n",
    "    unique_genes = [gene for gene in unique_genes if gene != 'intergenic']\n",
    "    import gseapy as gp\n",
    "    \n",
    "    enr_GOBP = gp.enrichr(gene_list=unique_genes,\n",
    "    gene_sets=['GO_Biological_Process_2021'],\n",
    "    organism='Human', \n",
    "    outdir=f'Results/4 Pathway/GOBP_{k}',\n",
    "    cutoff=0.5)\n",
    "    \n",
    "    enr_GOMF = gp.enrichr(gene_list=unique_genes,\n",
    "     gene_sets=['GO_Molecular_Function_2021'],\n",
    "     organism='Human', \n",
    "     outdir=f'Results/4 Pathway/GOMF_{k}',\n",
    "     cutoff=0.5 \n",
    "     )\n",
    "    enr_GOCC = gp.enrichr(gene_list=unique_genes,\n",
    "     gene_sets=['GO_Cellular_Component_2021'],\n",
    "     organism='Human', \n",
    "     outdir=f'Results/4 Pathway/GOCC_{k}',\n",
    "     cutoff=0.5 \n",
    "     )\n",
    "    enr_Reactome = gp.enrichr(gene_list=unique_genes,\n",
    "     gene_sets=['Reactome_2016'],\n",
    "     organism='Human', \n",
    "     outdir=f'Results/4 Pathway/Reactome_{k}',\n",
    "     cutoff=0.5 \n",
    "     )\n",
    "    \n"
   ]
  },
  {
   "cell_type": "code",
   "execution_count": 64,
   "id": "b792556a-5519-4dc4-a8e9-f19714bc4941",
   "metadata": {
    "tags": []
   },
   "outputs": [],
   "source": [
    "for k, v in gwas.items():\n",
    "    gwas[k]['RSID'] = gwas[k]['RSID'].replace(',chr.+[AGTC]', '', regex = True)\n",
    "    try:\n",
    "        pathway = pathw(gwas[k], k)\n",
    "    except:\n",
    "        continue\n",
    "\n"
   ]
  },
  {
   "cell_type": "code",
   "execution_count": null,
   "id": "94342d1d-c249-4c5f-9ead-47bf17f5d655",
   "metadata": {},
   "outputs": [],
   "source": []
  }
 ],
 "metadata": {
  "kernelspec": {
   "display_name": "Python 3 (ipykernel)",
   "language": "python",
   "name": "python3"
  },
  "language_info": {
   "codemirror_mode": {
    "name": "ipython",
    "version": 3
   },
   "file_extension": ".py",
   "mimetype": "text/x-python",
   "name": "python",
   "nbconvert_exporter": "python",
   "pygments_lexer": "ipython3",
   "version": "3.9.13"
  }
 },
 "nbformat": 4,
 "nbformat_minor": 5
}
