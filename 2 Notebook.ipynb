{
 "cells": [
  {
   "cell_type": "code",
   "execution_count": 141,
   "id": "f03f6aa0-a02a-44cb-9408-5df95de26dca",
   "metadata": {},
   "outputs": [],
   "source": [
    "import pandas as pd\n",
    "import numpy as np\n",
    "import matplotlib.pyplot as plt\n",
    "from scipy.stats import norm\n",
    "import warnings\n",
    "warnings.filterwarnings('ignore')\n",
    "import seaborn as sns\n",
    "import os"
   ]
  },
  {
   "cell_type": "code",
   "execution_count": 143,
   "id": "1acf7504-a7de-49a1-be57-4892711d10ae",
   "metadata": {},
   "outputs": [],
   "source": [
    "import requests\n",
    "import json\n",
    "import pandas as pd \n",
    "import time # if you want to measure the query speed"
   ]
  },
  {
   "cell_type": "code",
   "execution_count": 145,
   "id": "f72814ce-f9f9-4845-a231-04183e855dd1",
   "metadata": {},
   "outputs": [],
   "source": [
    "cwd = os.getcwd() \n",
    "lists = os.listdir(f'{cwd}/GWAS')\n",
    "lists = [i.replace('.xlsx', '') for i in lists]\n",
    "gwas = {}\n",
    "for i in lists:\n",
    "    gwas[i] = pd.read_excel(f'GWAS/{i}.xlsx')"
   ]
  },
  {
   "cell_type": "code",
   "execution_count": 146,
   "id": "50ca994f-17ea-4952-b6bb-1f6a55250a6c",
   "metadata": {},
   "outputs": [],
   "source": [
    "for k, v in gwas.items():\n",
    "    gwas[k]['RSID'] = gwas[k]['RSID'].replace(',chr.+[AGTC]', '', regex = True)\n",
    "    #gwas[k]['RSID'] = gwas[k]['RSID'].replace(';rs\\d+', '', regex = True)"
   ]
  },
  {
   "cell_type": "code",
   "execution_count": 147,
   "id": "37cfe9f4-16b8-4ef3-a52b-2610aba9ac08",
   "metadata": {},
   "outputs": [],
   "source": [
    "gwases = pd.DataFrame()\n",
    "for k, v in gwas.items():\n",
    "    gwas[k]['Source'] = k\n",
    "    gwases = pd.concat([gwases, gwas[k]])\n",
    "    "
   ]
  },
  {
   "cell_type": "code",
   "execution_count": 397,
   "id": "be6b5513-93ef-42a7-90c1-e6f03011d24f",
   "metadata": {},
   "outputs": [
    {
     "data": {
      "text/html": [
       "<div>\n",
       "<style scoped>\n",
       "    .dataframe tbody tr th:only-of-type {\n",
       "        vertical-align: middle;\n",
       "    }\n",
       "\n",
       "    .dataframe tbody tr th {\n",
       "        vertical-align: top;\n",
       "    }\n",
       "\n",
       "    .dataframe thead th {\n",
       "        text-align: right;\n",
       "    }\n",
       "</style>\n",
       "<table border=\"1\" class=\"dataframe\">\n",
       "  <thead>\n",
       "    <tr style=\"text-align: right;\">\n",
       "      <th></th>\n",
       "      <th>#CHROM</th>\n",
       "      <th>POS</th>\n",
       "      <th>ID</th>\n",
       "      <th>REF</th>\n",
       "      <th>ALT</th>\n",
       "      <th>A1</th>\n",
       "      <th>FIRTH?</th>\n",
       "      <th>TEST</th>\n",
       "      <th>OBS_CT</th>\n",
       "      <th>OR</th>\n",
       "      <th>...</th>\n",
       "      <th>U95</th>\n",
       "      <th>Z_STAT</th>\n",
       "      <th>P</th>\n",
       "      <th>ERRCODE</th>\n",
       "      <th>RSID</th>\n",
       "      <th>GENE_NAME</th>\n",
       "      <th>Source</th>\n",
       "      <th>BETA</th>\n",
       "      <th>SE</th>\n",
       "      <th>T_STAT</th>\n",
       "    </tr>\n",
       "  </thead>\n",
       "  <tbody>\n",
       "    <tr>\n",
       "      <th>0</th>\n",
       "      <td>8</td>\n",
       "      <td>118856825</td>\n",
       "      <td>chr8:118856825:G:A</td>\n",
       "      <td>G</td>\n",
       "      <td>A</td>\n",
       "      <td>A</td>\n",
       "      <td>N</td>\n",
       "      <td>ADD</td>\n",
       "      <td>3917</td>\n",
       "      <td>0.382619</td>\n",
       "      <td>...</td>\n",
       "      <td>0.552351</td>\n",
       "      <td>-5.12870</td>\n",
       "      <td>2.917430e-07</td>\n",
       "      <td>.</td>\n",
       "      <td>rs150526800</td>\n",
       "      <td>EXT1</td>\n",
       "      <td>DSM субклиническая депрессия logistic.top1000_new</td>\n",
       "      <td>NaN</td>\n",
       "      <td>NaN</td>\n",
       "      <td>NaN</td>\n",
       "    </tr>\n",
       "    <tr>\n",
       "      <th>1</th>\n",
       "      <td>16</td>\n",
       "      <td>47424828</td>\n",
       "      <td>chr16:47424828:T:C</td>\n",
       "      <td>T</td>\n",
       "      <td>C</td>\n",
       "      <td>C</td>\n",
       "      <td>N</td>\n",
       "      <td>ADD</td>\n",
       "      <td>3917</td>\n",
       "      <td>1.314710</td>\n",
       "      <td>...</td>\n",
       "      <td>1.461290</td>\n",
       "      <td>5.07340</td>\n",
       "      <td>3.907630e-07</td>\n",
       "      <td>.</td>\n",
       "      <td>rs4966882</td>\n",
       "      <td>ITFG1</td>\n",
       "      <td>DSM субклиническая депрессия logistic.top1000_new</td>\n",
       "      <td>NaN</td>\n",
       "      <td>NaN</td>\n",
       "      <td>NaN</td>\n",
       "    </tr>\n",
       "    <tr>\n",
       "      <th>2</th>\n",
       "      <td>16</td>\n",
       "      <td>47486817</td>\n",
       "      <td>chr16:47486817:C:T</td>\n",
       "      <td>C</td>\n",
       "      <td>T</td>\n",
       "      <td>T</td>\n",
       "      <td>N</td>\n",
       "      <td>ADD</td>\n",
       "      <td>3917</td>\n",
       "      <td>1.312350</td>\n",
       "      <td>...</td>\n",
       "      <td>1.459740</td>\n",
       "      <td>5.00524</td>\n",
       "      <td>5.579200e-07</td>\n",
       "      <td>.</td>\n",
       "      <td>rs2111227</td>\n",
       "      <td>ITFG1</td>\n",
       "      <td>DSM субклиническая депрессия logistic.top1000_new</td>\n",
       "      <td>NaN</td>\n",
       "      <td>NaN</td>\n",
       "      <td>NaN</td>\n",
       "    </tr>\n",
       "    <tr>\n",
       "      <th>3</th>\n",
       "      <td>2</td>\n",
       "      <td>197913359</td>\n",
       "      <td>chr2:197913359:T:G</td>\n",
       "      <td>T</td>\n",
       "      <td>G</td>\n",
       "      <td>G</td>\n",
       "      <td>N</td>\n",
       "      <td>ADD</td>\n",
       "      <td>3917</td>\n",
       "      <td>0.730470</td>\n",
       "      <td>...</td>\n",
       "      <td>0.826125</td>\n",
       "      <td>-5.00219</td>\n",
       "      <td>5.668180e-07</td>\n",
       "      <td>.</td>\n",
       "      <td>rs10931769</td>\n",
       "      <td>ANKRD44</td>\n",
       "      <td>DSM субклиническая депрессия logistic.top1000_new</td>\n",
       "      <td>NaN</td>\n",
       "      <td>NaN</td>\n",
       "      <td>NaN</td>\n",
       "    </tr>\n",
       "    <tr>\n",
       "      <th>4</th>\n",
       "      <td>2</td>\n",
       "      <td>197910266</td>\n",
       "      <td>chr2:197910266:C:T</td>\n",
       "      <td>C</td>\n",
       "      <td>T</td>\n",
       "      <td>T</td>\n",
       "      <td>N</td>\n",
       "      <td>ADD</td>\n",
       "      <td>3917</td>\n",
       "      <td>0.732074</td>\n",
       "      <td>...</td>\n",
       "      <td>0.827948</td>\n",
       "      <td>-4.96682</td>\n",
       "      <td>6.805920e-07</td>\n",
       "      <td>.</td>\n",
       "      <td>rs62279184</td>\n",
       "      <td>ANKRD44</td>\n",
       "      <td>DSM субклиническая депрессия logistic.top1000_new</td>\n",
       "      <td>NaN</td>\n",
       "      <td>NaN</td>\n",
       "      <td>NaN</td>\n",
       "    </tr>\n",
       "  </tbody>\n",
       "</table>\n",
       "<p>5 rows × 22 columns</p>\n",
       "</div>"
      ],
      "text/plain": [
       "   #CHROM        POS                  ID REF ALT A1 FIRTH? TEST  OBS_CT  \\\n",
       "0       8  118856825  chr8:118856825:G:A   G   A  A      N  ADD    3917   \n",
       "1      16   47424828  chr16:47424828:T:C   T   C  C      N  ADD    3917   \n",
       "2      16   47486817  chr16:47486817:C:T   C   T  T      N  ADD    3917   \n",
       "3       2  197913359  chr2:197913359:T:G   T   G  G      N  ADD    3917   \n",
       "4       2  197910266  chr2:197910266:C:T   C   T  T      N  ADD    3917   \n",
       "\n",
       "         OR  ...       U95   Z_STAT             P  ERRCODE         RSID  \\\n",
       "0  0.382619  ...  0.552351 -5.12870  2.917430e-07        .  rs150526800   \n",
       "1  1.314710  ...  1.461290  5.07340  3.907630e-07        .    rs4966882   \n",
       "2  1.312350  ...  1.459740  5.00524  5.579200e-07        .    rs2111227   \n",
       "3  0.730470  ...  0.826125 -5.00219  5.668180e-07        .   rs10931769   \n",
       "4  0.732074  ...  0.827948 -4.96682  6.805920e-07        .   rs62279184   \n",
       "\n",
       "  GENE_NAME                                             Source BETA  SE  \\\n",
       "0      EXT1  DSM субклиническая депрессия logistic.top1000_new  NaN NaN   \n",
       "1     ITFG1  DSM субклиническая депрессия logistic.top1000_new  NaN NaN   \n",
       "2     ITFG1  DSM субклиническая депрессия logistic.top1000_new  NaN NaN   \n",
       "3   ANKRD44  DSM субклиническая депрессия logistic.top1000_new  NaN NaN   \n",
       "4   ANKRD44  DSM субклиническая депрессия logistic.top1000_new  NaN NaN   \n",
       "\n",
       "   T_STAT  \n",
       "0     NaN  \n",
       "1     NaN  \n",
       "2     NaN  \n",
       "3     NaN  \n",
       "4     NaN  \n",
       "\n",
       "[5 rows x 22 columns]"
      ]
     },
     "execution_count": 397,
     "metadata": {},
     "output_type": "execute_result"
    }
   ],
   "source": [
    "gwases.head()"
   ]
  },
  {
   "cell_type": "code",
   "execution_count": 502,
   "id": "05306964-e744-4fa3-904a-013b9d4d8483",
   "metadata": {},
   "outputs": [
    {
     "data": {
      "text/plain": [
       "['DSM субклиническая депрессия logistic.top1000_new',\n",
       " 'DSM_БАР logistic.top1000_new',\n",
       " 'DSM_ГТР logistic.top1000_new',\n",
       " 'DSM_ДЕПРЕССИЯ logistic.top1000_new',\n",
       " 'HADS_A. БАЛЛ linear.top1000_new',\n",
       " 'HADS_A_КАТЕГОРИЯ logistic.top1000_new',\n",
       " 'HADS_D. БАЛЛ linear.top1000_new',\n",
       " 'HADS_D_КАТЕГОРИЯ logistic.top1000_new',\n",
       " 'HADS_D_субклиническая депрессия logistic.top1000_new',\n",
       " 'ангедония logistic.top1000_new',\n",
       " 'гиперсомния logistic.top1000_new',\n",
       " 'гиперсомния плюс гиперфагия logistic.top1000_new',\n",
       " 'гиперфагия logistic.top1000_new',\n",
       " 'любой фенотип logistic.top1000_new']"
      ]
     },
     "execution_count": 502,
     "metadata": {},
     "output_type": "execute_result"
    }
   ],
   "source": [
    "lists"
   ]
  },
  {
   "cell_type": "code",
   "execution_count": 770,
   "id": "184e4754-7ce1-4d03-9c8a-59809463964e",
   "metadata": {},
   "outputs": [],
   "source": [
    "unique_ID=[]\n",
    "import re\n",
    "import ensembl_rest\n",
    "for i in lists:\n",
    "    df = gwas[i]\n",
    "    significant_rs = df[df['P'] < 1e-5 ]\n",
    "    #significant_rs = df\n",
    "    unique_ID_prom = significant_rs['RSID'].unique()\n",
    "    unique_ID_prom = [gene for gene in unique_ID_prom if gene != 'intergenic']\n",
    "    for j in unique_ID_prom:\n",
    "        if j not in unique_ID:\n",
    "            j = re.sub(':', '_', j)\n",
    "            j = j \n",
    "            unique_ID.append(j)"
   ]
  },
  {
   "cell_type": "code",
   "execution_count": 772,
   "id": "73a24b74-4e24-46cb-a32e-2fef465fbcc1",
   "metadata": {
    "tags": []
   },
   "outputs": [],
   "source": [
    "unique_ID = tuple(unique_ID)"
   ]
  },
  {
   "cell_type": "code",
   "execution_count": 774,
   "id": "5c4a5350-906a-4005-a80b-5df37c00e722",
   "metadata": {
    "tags": []
   },
   "outputs": [
    {
     "data": {
      "text/plain": [
       "('rs150526800', 'rs4966882')"
      ]
     },
     "execution_count": 774,
     "metadata": {},
     "output_type": "execute_result"
    }
   ],
   "source": [
    "unique_ID[0:2]"
   ]
  },
  {
   "cell_type": "code",
   "execution_count": 823,
   "id": "fdd2b292-cbf9-48a2-8342-217c04915905",
   "metadata": {},
   "outputs": [
    {
     "ename": "TypeError",
     "evalue": "'NoneType' object is not iterable",
     "output_type": "error",
     "traceback": [
      "\u001b[1;31m---------------------------------------------------------------------------\u001b[0m",
      "\u001b[1;31mTypeError\u001b[0m                                 Traceback (most recent call last)",
      "\u001b[1;32m~\\AppData\\Local\\Temp\\ipykernel_16068\\1272370354.py\u001b[0m in \u001b[0;36m<module>\u001b[1;34m\u001b[0m\n\u001b[0;32m      8\u001b[0m \u001b[0mtissue\u001b[0m \u001b[1;33m=\u001b[0m \u001b[1;34m\"Lung\"\u001b[0m\u001b[1;33m\u001b[0m\u001b[1;33m\u001b[0m\u001b[0m\n\u001b[0;32m      9\u001b[0m \u001b[0mvariantId\u001b[0m \u001b[1;33m=\u001b[0m \u001b[1;33m(\u001b[0m\u001b[1;34m\"chr1_665098_G_A_b38\"\u001b[0m\u001b[1;33m,\u001b[0m\u001b[1;34m\"chr1_88794_T_A_b38\"\u001b[0m\u001b[1;33m)\u001b[0m\u001b[1;33m\u001b[0m\u001b[1;33m\u001b[0m\u001b[0m\n\u001b[1;32m---> 10\u001b[1;33m \u001b[0mvariantId\u001b[0m \u001b[1;33m=\u001b[0m \u001b[0mlist\u001b[0m\u001b[1;33m(\u001b[0m\u001b[0mrandom\u001b[0m\u001b[1;33m.\u001b[0m\u001b[0mshuffle\u001b[0m\u001b[1;33m(\u001b[0m\u001b[0mlist\u001b[0m\u001b[1;33m(\u001b[0m\u001b[0munique_ID\u001b[0m\u001b[1;33m)\u001b[0m\u001b[1;33m)\u001b[0m\u001b[1;33m)\u001b[0m\u001b[1;33m[\u001b[0m\u001b[1;36m0\u001b[0m\u001b[1;33m:\u001b[0m\u001b[1;36m10\u001b[0m\u001b[1;33m]\u001b[0m\u001b[1;33m\u001b[0m\u001b[1;33m\u001b[0m\u001b[0m\n\u001b[0m\u001b[0;32m     11\u001b[0m \u001b[1;31m# Выполнение запроса к API GTEx V2 https://gtexportal.org/api/v2/\u001b[0m\u001b[1;33m\u001b[0m\u001b[1;33m\u001b[0m\u001b[0m\n\u001b[0;32m     12\u001b[0m response = requests.get('https://gtexportal.org/api/v2/association/singleTissueEqtl',\n",
      "\u001b[1;31mTypeError\u001b[0m: 'NoneType' object is not iterable"
     ]
    }
   ],
   "source": [
    "import requests\n",
    "import json\n",
    "import pandas as pd\n",
    "import matplotlib.pyplot as plt\n",
    "import random\n",
    "# Параметры запроса\n",
    "gencode = \"ENSG00000227232.5\"\n",
    "tissue = \"Lung\"\n",
    "variantId = (\"chr1_665098_G_A_b38\",\"chr1_88794_T_A_b38\")\n",
    "variantId = list(random.shuffle(list(unique_ID)))[0:10]\n",
    "# Выполнение запроса к API GTEx V2 https://gtexportal.org/api/v2/\n",
    "response = requests.get('https://gtexportal.org/api/v2/association/singleTissueEqtl',\n",
    "                        params = {\"gencodeId\" : gencode,\"tissueSiteDetailId\" : tissue, \"datasetId\" : \"gtex_v8\", \"variantId\" : variantId})\n",
    "\n",
    "# Проверка статуса ответа\n",
    "if response.status_code != 200:\n",
    "    print(f\"Error: API request failed with status code {response.status_code}\")\n",
    "else:\n",
    "    try:\n",
    "        # Преобразование данных в формат JSON\n",
    "        data = response.json()\n",
    "        \n",
    "        # Проверка на наличие данных\n",
    "        if 'data' not in data or not data['data']:\n",
    "            print(\"No data available for the given parameters.\")\n",
    "        else:\n",
    "            # Преобразование данных в DataFrame\n",
    "            eqtl_data = pd.DataFrame(data['data'])\n",
    "\n",
    "            # Сортировка данных по p-value\n",
    "            eqtl_data_sorted = eqtl_data.sort_values(by='pValue')\n",
    "\n",
    "            # Отображение самых значимых eQTL\n",
    "            print(eqtl_data_sorted.head())\n",
    "\n",
    "            # Визуализация p-value\n",
    "            plt.scatter(eqtl_data['snpId'], eqtl_data['pValue'])\n",
    "            plt.xlabel('snpId')\n",
    "            plt.ylabel('Nominal p-value')\n",
    "            plt.title('eQTL Analysis Results')\n",
    "            plt.xticks(rotation=90)\n",
    "            plt.show()\n",
    "    except json.JSONDecodeError:\n",
    "        print(\"Error: Unable to decode JSON response.\")\n",
    "\n"
   ]
  },
  {
   "cell_type": "code",
   "execution_count": 825,
   "id": "fd193268-8b15-4a03-ada6-47c9f7c6417f",
   "metadata": {},
   "outputs": [
    {
     "data": {
      "text/plain": [
       "('chr1_665098_G_A_b38', 'chr1_88794_T_A_b38')"
      ]
     },
     "execution_count": 825,
     "metadata": {},
     "output_type": "execute_result"
    }
   ],
   "source": [
    "variantId"
   ]
  },
  {
   "cell_type": "code",
   "execution_count": null,
   "id": "7ef951f8-34cd-4282-abc2-d214e1050fed",
   "metadata": {},
   "outputs": [],
   "source": []
  },
  {
   "cell_type": "code",
   "execution_count": null,
   "id": "f89e25a7-c241-42a1-ac8b-2c92b18948e7",
   "metadata": {},
   "outputs": [],
   "source": []
  }
 ],
 "metadata": {
  "kernelspec": {
   "display_name": "Python 3 (ipykernel)",
   "language": "python",
   "name": "python3"
  },
  "language_info": {
   "codemirror_mode": {
    "name": "ipython",
    "version": 3
   },
   "file_extension": ".py",
   "mimetype": "text/x-python",
   "name": "python",
   "nbconvert_exporter": "python",
   "pygments_lexer": "ipython3",
   "version": "3.9.13"
  }
 },
 "nbformat": 4,
 "nbformat_minor": 5
}
