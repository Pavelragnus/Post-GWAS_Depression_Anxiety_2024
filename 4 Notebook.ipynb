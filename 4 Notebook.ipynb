{
 "cells": [
  {
   "cell_type": "code",
   "execution_count": 1,
   "id": "aed815cb-78ec-46fe-b960-26d687fbd10c",
   "metadata": {},
   "outputs": [],
   "source": [
    "import pandas as pd\n",
    "import numpy as np\n",
    "import matplotlib.pyplot as plt\n",
    "from scipy.stats import norm\n",
    "import warnings\n",
    "warnings.filterwarnings('ignore')\n",
    "import seaborn as sns\n",
    "import os"
   ]
  },
  {
   "cell_type": "code",
   "execution_count": 2,
   "id": "05c301c7-7df4-461f-af44-d8d156ebd1a8",
   "metadata": {},
   "outputs": [],
   "source": [
    "cwd = os.getcwd() \n",
    "lists = os.listdir(f'{cwd}/GWAS')\n",
    "lists = [i.replace('.xlsx', '') for i in lists]\n",
    "gwas = {}\n",
    "for i in lists:\n",
    "    gwas[i] = pd.read_excel(f'GWAS/{i}.xlsx')"
   ]
  },
  {
   "cell_type": "code",
   "execution_count": 3,
   "id": "9698bb57-e2d1-4319-ae13-f07f26674b2b",
   "metadata": {},
   "outputs": [],
   "source": [
    "for k, v in gwas.items():\n",
    "    gwas[k]['RSID'] = gwas[k]['RSID'].replace(',chr.+[AGTC]', '', regex = True)\n",
    "    #gwas[k]['RSID'] = gwas[k]['RSID'].replace(';rs\\d+', '', regex = True)"
   ]
  },
  {
   "cell_type": "markdown",
   "id": "d347d6d9-0425-4daa-954e-3f0f79eaee89",
   "metadata": {},
   "source": [
    "# Рассмотрим рпепликацию значимых snps среди доступных исследований GWAS каталога, загруженных на основании rs id"
   ]
  },
  {
   "cell_type": "markdown",
   "id": "268b0196-53c5-4e85-8074-113f03db08f4",
   "metadata": {},
   "source": [
    "##  Оценка репликации"
   ]
  },
  {
   "cell_type": "code",
   "execution_count": 18,
   "id": "2bfa889e-ee98-4c4c-9df4-35ff870ecaed",
   "metadata": {},
   "outputs": [],
   "source": [
    "def replication_snps(df):\n",
    "    import pandasgwas as pg\n",
    "    significant_rs = df[df['P'] < 1e-5]\n",
    "    source_id = pg.get_variants_by_variant_id('rs150526800').variants\n",
    "    for i in df['RSID']:\n",
    "        try:\n",
    "            source_id = pd.concat([source_id, pg.get_variants_by_variant_id(i).variants])\n",
    "        except:\n",
    "            continue\n",
    "    replicated_snps = significant_rs[significant_rs['RSID'].isin(source_id['rsId'])]\n",
    "    gene_replication = significant_rs['GENE_NAME'].value_counts()\n",
    "    replicated_genes = gene_replication[gene_replication > 1]\n",
    "    return replicated_snps"
   ]
  },
  {
   "cell_type": "code",
   "execution_count": 20,
   "id": "b03e14fc-c06f-40ae-b83f-3a66bfcb50a7",
   "metadata": {},
   "outputs": [
    {
     "name": "stdin",
     "output_type": "stream",
     "text": [
      "You are about to download to many data from the GWAS Catalog.\n",
      "This might take several minutes.\n",
      "Do you still want to proceed? (Yes or No) Yes\n"
     ]
    },
    {
     "name": "stderr",
     "output_type": "stream",
     "text": [
      "\u001b[38;2;0;255;0m100%\u001b[39m \u001b[38;2;0;255;0m(18556 of 18556)\u001b[39m |##################| Elapsed Time: 0:01:25 Time:  0:01:250007\n"
     ]
    },
    {
     "name": "stdin",
     "output_type": "stream",
     "text": [
      "You are about to download to many data from the GWAS Catalog.\n",
      "This might take several minutes.\n",
      "Do you still want to proceed? (Yes or No) Yes\n"
     ]
    },
    {
     "name": "stderr",
     "output_type": "stream",
     "text": [
      "\u001b[38;2;0;255;0m100%\u001b[39m \u001b[38;2;0;255;0m(18556 of 18556)\u001b[39m |##################| Elapsed Time: 0:01:42 Time:  0:01:420008\n"
     ]
    },
    {
     "name": "stdin",
     "output_type": "stream",
     "text": [
      "You are about to download to many data from the GWAS Catalog.\n",
      "This might take several minutes.\n",
      "Do you still want to proceed? (Yes or No) Yes\n"
     ]
    },
    {
     "name": "stderr",
     "output_type": "stream",
     "text": [
      "\u001b[38;2;0;255;0m100%\u001b[39m \u001b[38;2;0;255;0m(18556 of 18556)\u001b[39m |##################| Elapsed Time: 0:01:27 Time:  0:01:270007\n"
     ]
    },
    {
     "name": "stdin",
     "output_type": "stream",
     "text": [
      "You are about to download to many data from the GWAS Catalog.\n",
      "This might take several minutes.\n",
      "Do you still want to proceed? (Yes or No) Yes\n"
     ]
    },
    {
     "name": "stderr",
     "output_type": "stream",
     "text": [
      "\u001b[38;2;0;255;0m100%\u001b[39m \u001b[38;2;0;255;0m(18556 of 18556)\u001b[39m |##################| Elapsed Time: 0:01:37 Time:  0:01:370008\n"
     ]
    },
    {
     "name": "stdin",
     "output_type": "stream",
     "text": [
      "You are about to download to many data from the GWAS Catalog.\n",
      "This might take several minutes.\n",
      "Do you still want to proceed? (Yes or No) Yes\n"
     ]
    },
    {
     "name": "stderr",
     "output_type": "stream",
     "text": [
      "\u001b[38;2;0;255;0m100%\u001b[39m \u001b[38;2;0;255;0m(18556 of 18556)\u001b[39m |##################| Elapsed Time: 0:01:24 Time:  0:01:240007\n"
     ]
    },
    {
     "name": "stdin",
     "output_type": "stream",
     "text": [
      "You are about to download to many data from the GWAS Catalog.\n",
      "This might take several minutes.\n",
      "Do you still want to proceed? (Yes or No) Yes\n"
     ]
    },
    {
     "name": "stderr",
     "output_type": "stream",
     "text": [
      "\u001b[38;2;0;255;0m100%\u001b[39m \u001b[38;2;0;255;0m(18556 of 18556)\u001b[39m |##################| Elapsed Time: 0:01:38 Time:  0:01:380007\n"
     ]
    },
    {
     "name": "stdin",
     "output_type": "stream",
     "text": [
      "You are about to download to many data from the GWAS Catalog.\n",
      "This might take several minutes.\n",
      "Do you still want to proceed? (Yes or No) Yes\n"
     ]
    },
    {
     "name": "stderr",
     "output_type": "stream",
     "text": [
      "\u001b[38;2;0;255;0m100%\u001b[39m \u001b[38;2;0;255;0m(18556 of 18556)\u001b[39m |##################| Elapsed Time: 0:01:29 Time:  0:01:290007\n"
     ]
    },
    {
     "name": "stdin",
     "output_type": "stream",
     "text": [
      "You are about to download to many data from the GWAS Catalog.\n",
      "This might take several minutes.\n",
      "Do you still want to proceed? (Yes or No) Yes\n"
     ]
    },
    {
     "name": "stderr",
     "output_type": "stream",
     "text": [
      "\u001b[38;2;0;255;0m100%\u001b[39m \u001b[38;2;0;255;0m(18556 of 18556)\u001b[39m |##################| Elapsed Time: 0:01:40 Time:  0:01:400008\n"
     ]
    },
    {
     "name": "stdin",
     "output_type": "stream",
     "text": [
      "You are about to download to many data from the GWAS Catalog.\n",
      "This might take several minutes.\n",
      "Do you still want to proceed? (Yes or No) Yes\n"
     ]
    },
    {
     "name": "stderr",
     "output_type": "stream",
     "text": [
      "\u001b[38;2;0;255;0m100%\u001b[39m \u001b[38;2;0;255;0m(18556 of 18556)\u001b[39m |##################| Elapsed Time: 0:01:18 Time:  0:01:180006\n"
     ]
    }
   ],
   "source": [
    "for k, v in gwas.items():\n",
    "    replications_rs = replication_snps(gwas[k])\n",
    "    replications_rs.to_csv(f'4 Results/1 ReplicatedRS/ReplicatedRS_{k}.csv')"
   ]
  },
  {
   "cell_type": "markdown",
   "id": "c099448f-64ec-40cd-88b4-cb8cdc57c0af",
   "metadata": {},
   "source": [
    "**Результаты представлены в папке [4 Results/1 ReplicatedRS]**"
   ]
  },
  {
   "cell_type": "markdown",
   "id": "aff912e0-8b24-4b29-81d4-faab8d0d8819",
   "metadata": {},
   "source": [
    "## Визуализируем число вариантов, реплицированных из каждого фенотипа"
   ]
  },
  {
   "cell_type": "code",
   "execution_count": 155,
   "id": "04716384-50bb-4396-8ddd-2cbc17a2429d",
   "metadata": {},
   "outputs": [],
   "source": [
    "cwd = os.getcwd() \n",
    "lists = os.listdir(f'{cwd}/4 Results/1 ReplicatedRS')\n",
    "lists = [i.replace('.csv', '') for i in lists]\n",
    "gwas = {}\n",
    "for i in lists:\n",
    "    gwas[i] = pd.read_csv(f'4 Results/1 ReplicatedRS/{i}.csv')"
   ]
  },
  {
   "cell_type": "code",
   "execution_count": 157,
   "id": "e80dd733-9031-46b1-bc37-a94c5c784e67",
   "metadata": {},
   "outputs": [],
   "source": [
    "gwases = pd.DataFrame()\n",
    "for k, v in gwas.items():\n",
    "    gwas[k]['Source'] = k\n",
    "    gwases = pd.concat([gwases, gwas[k]])\n",
    "    "
   ]
  },
  {
   "cell_type": "code",
   "execution_count": 159,
   "id": "fae25be1-2dc1-4b5b-866d-6c8c45cdc88b",
   "metadata": {},
   "outputs": [],
   "source": [
    "number = list(map(lambda x: len(gwas[x]), lists))"
   ]
  },
  {
   "cell_type": "code",
   "execution_count": 179,
   "id": "25c70ac7-22e1-422d-b2be-0da0753862c0",
   "metadata": {},
   "outputs": [
    {
     "name": "stdout",
     "output_type": "stream",
     "text": [
      "(0, 'ReplicatedRS_DSM субклиническая депрессия logistic.top1000_new')\n",
      "(1, 'ReplicatedRS_DSM_БАР logistic.top1000_new')\n",
      "(2, 'ReplicatedRS_DSM_ГТР logistic.top1000_new')\n",
      "(3, 'ReplicatedRS_DSM_ДЕПРЕССИЯ logistic.top1000_new')\n",
      "(4, 'ReplicatedRS_HADS_A. БАЛЛ linear.top1000_new')\n",
      "(5, 'ReplicatedRS_HADS_A_КАТЕГОРИЯ logistic.top1000_new')\n",
      "(6, 'ReplicatedRS_HADS_D. БАЛЛ linear.top1000_new')\n",
      "(7, 'ReplicatedRS_HADS_D_КАТЕГОРИЯ logistic.top1000_new')\n",
      "(8, 'ReplicatedRS_HADS_D_субклиническая депрессия logistic.top1000_new')\n",
      "(9, 'ReplicatedRS_ангедония logistic.top1000_new')\n",
      "(10, 'ReplicatedRS_гиперсомния logistic.top1000_new')\n",
      "(11, 'ReplicatedRS_гиперсомния плюс гиперфагия logistic.top1000_new')\n",
      "(12, 'ReplicatedRS_гиперфагия logistic.top1000_new')\n",
      "(13, 'ReplicatedRS_любой фенотип logistic.top1000_new')\n"
     ]
    }
   ],
   "source": [
    "print(*list(enumerate(lists)), sep = '\\n')"
   ]
  },
  {
   "cell_type": "code",
   "execution_count": 163,
   "id": "85f12982-7459-400c-b0e8-ffae34d68281",
   "metadata": {},
   "outputs": [
    {
     "data": {
      "text/plain": [
       "<BarContainer object of 14 artists>"
      ]
     },
     "execution_count": 163,
     "metadata": {},
     "output_type": "execute_result"
    },
    {
     "data": {
      "image/png": "[encoded data removed]",
      "text/plain": [
       "<Figure size 640x480 with 1 Axes>"
      ]
     },
     "metadata": {},
     "output_type": "display_data"
    }
   ],
   "source": [
    "plt.bar(list(range(0,14)), number)"
   ]
  },
  {
   "cell_type": "code",
   "execution_count": 181,
   "id": "bb2b8b0d-5be7-4abd-8b0a-c2571ef959a4",
   "metadata": {},
   "outputs": [
    {
     "name": "stdout",
     "output_type": "stream",
     "text": [
      "(0, [])\n",
      "(1, ['FCRL4'])\n",
      "(2, ['intergenic', 'ANKRD11', 'intergenic'])\n",
      "(3, ['CEMIP', 'intergenic', 'BTBD16'])\n",
      "(4, ['AC004540.1'])\n",
      "(5, ['ATG16L1', 'NRG1'])\n",
      "(6, ['MAGI2', 'intergenic', 'AL355095.1', 'MACROD1'])\n",
      "(7, ['CHD4,AC006064.6', 'SFXN1'])\n",
      "(8, ['AC097717.1', 'EDAR'])\n",
      "(9, ['LINC02267'])\n",
      "(10, ['ENPP3'])\n",
      "(11, ['PTPRD'])\n",
      "(12, ['intergenic', 'PTPRD'])\n",
      "(13, ['ATG16L1'])\n"
     ]
    }
   ],
   "source": [
    "print(*list(enumerate(list(map(lambda x: gwas[x]['GENE_NAME'].to_list(), lists)))), sep = '\\n')"
   ]
  },
  {
   "cell_type": "markdown",
   "id": "c15b2759-b32d-4096-9075-3d55f2d1b623",
   "metadata": {},
   "source": [
    "## Какие исследования и исходы связаны с этими snps?"
   ]
  },
  {
   "cell_type": "code",
   "execution_count": 626,
   "id": "f61766e9-df93-43a2-a021-2a08850b7f3b",
   "metadata": {},
   "outputs": [],
   "source": [
    "cwd = os.getcwd() \n",
    "lists = os.listdir(f'{cwd}/GWAS')\n",
    "lists = [i.replace('.xlsx', '') for i in lists]\n",
    "gwas = {}\n",
    "for i in lists:\n",
    "    gwas[i] = pd.read_excel(f'GWAS/{i}.xlsx')"
   ]
  },
  {
   "cell_type": "code",
   "execution_count": 628,
   "id": "7c26a569-5c30-4ce5-8a20-57c83fd25ddf",
   "metadata": {},
   "outputs": [],
   "source": [
    "for k, v in gwas.items():\n",
    "    gwas[k]['RSID'] = gwas[k]['RSID'].replace(',chr.+[AGTC]', '', regex = True)\n",
    "    #gwas[k]['RSID'] = gwas[k]['RSID'].replace(';rs\\d+', '', regex = True)"
   ]
  },
  {
   "cell_type": "code",
   "execution_count": 630,
   "id": "329456dd-8042-4a0c-bc47-3ee44295a21f",
   "metadata": {},
   "outputs": [],
   "source": [
    "gwases = pd.DataFrame()\n",
    "for k, v in gwas.items():\n",
    "    gwas[k]['Source'] = k\n",
    "    gwases = pd.concat([gwases, gwas[k]])"
   ]
  },
  {
   "cell_type": "code",
   "execution_count": 656,
   "id": "07ca6ca4-95a0-4768-b600-a16c1290c8b7",
   "metadata": {},
   "outputs": [],
   "source": [
    "unique_ID=[]\n",
    "unique_gene = []\n",
    "phens = []\n",
    "import re\n",
    "import ensembl_rest\n",
    "for i in lists:\n",
    "    df = gwas[i]\n",
    "    #significant_rs = df[df['P'] < 1e-5 ]\n",
    "    significant_rs = df\n",
    "    unique_ID_prom = significant_rs['RSID'].unique()\n",
    "    unique_ID_prom = [gene for gene in unique_ID_prom if gene != 'intergenic']\n",
    "    for j in unique_ID_prom:\n",
    "        if j not in unique_ID:\n",
    "            unique_ID.append(j)\n",
    "            unique_gene.append(significant_rs['GENE_NAME'].loc[significant_rs['RSID'] == j].values[0])\n",
    "            phens.append(significant_rs['Source'].loc[significant_rs['RSID'] == j].values[0])"
   ]
  },
  {
   "cell_type": "code",
   "execution_count": 657,
   "id": "943bd047-07db-41ff-88d8-1099fc69ca25",
   "metadata": {},
   "outputs": [],
   "source": [
    "variants = []\n",
    "genes = []\n",
    "study = []\n",
    "traits = []\n",
    "phenotypes = []\n",
    "for variant, gene, phen in zip(unique_ID, unique_gene, phens):\n",
    "    import pandasgwas as pg\n",
    "    studies = pg.get_studies_by_variant_id(variant_id=variant)\n",
    "    traits_for_app = list(map(lambda x: pg.get_traits_by_study_id(x).efo_traits['trait'].to_list(), studies.studies['accessionId'].to_list()))\n",
    "    traits_for_app = sum(traits_for_app, [])\n",
    "    if len(traits_for_app) == 0:\n",
    "        traits_for_app = ['-']\n",
    "    variants = variants + [variant]*len(traits_for_app)\n",
    "    genes = genes + [gene]*len(traits_for_app)\n",
    "    study.append(studies.studies['publicationInfo.pubmedId'].to_list())\n",
    "    traits = traits + traits_for_app\n",
    "    phenotypes = phenotypes + [phen]*len(traits_for_app)"
   ]
  },
  {
   "cell_type": "code",
   "execution_count": 658,
   "id": "9088bae0-f4a2-4b67-8dae-9ae71b30f945",
   "metadata": {},
   "outputs": [],
   "source": [
    "trait_table = pd.DataFrame({\"variant\":variants,\n",
    "                    \"gene\":genes,\n",
    "                    \"phenotypes\":phenotypes,\n",
    "                    \"trait\":traits})"
   ]
  },
  {
   "cell_type": "code",
   "execution_count": 688,
   "id": "8b3e2930-107f-4e98-a23e-29245a970593",
   "metadata": {},
   "outputs": [],
   "source": [
    "trait_table = trait_table[trait_table['trait'] != '-']"
   ]
  },
  {
   "cell_type": "code",
   "execution_count": 708,
   "id": "48bb382e-3495-42b5-9c30-e79cdd39f367",
   "metadata": {},
   "outputs": [],
   "source": [
    "spisok = trait_table.groupby('trait').agg(pd.Series.tolist)[[\"phenotypes\", \"variant\", \"gene\"]]"
   ]
  },
  {
   "cell_type": "code",
   "execution_count": 710,
   "id": "91ea30cb-9b40-4ae4-8cc1-299eeae79712",
   "metadata": {},
   "outputs": [],
   "source": [
    "spisok['phenotypes'] = spisok.phenotypes.apply(lambda x: set(x))"
   ]
  },
  {
   "cell_type": "code",
   "execution_count": 712,
   "id": "e05c4f9f-72d2-47ea-8b33-67aa811f3b26",
   "metadata": {},
   "outputs": [],
   "source": [
    "spisok['variant'] = spisok.variant.apply(lambda x: set(x))"
   ]
  },
  {
   "cell_type": "code",
   "execution_count": 714,
   "id": "69235d47-e0d0-4802-a8fa-093862d1ec71",
   "metadata": {},
   "outputs": [],
   "source": [
    "spisok['gene'] = spisok.gene.apply(lambda x: set(x))"
   ]
  },
  {
   "cell_type": "code",
   "execution_count": 716,
   "id": "9c11648a-f047-45ab-87f5-c89b55cefad9",
   "metadata": {},
   "outputs": [],
   "source": [
    "spisok['Count_variants'] = spisok.variant.apply(lambda x: len(x))"
   ]
  },
  {
   "cell_type": "code",
   "execution_count": 718,
   "id": "b43a1b29-6a16-4ab4-8828-9bf70fc9bb58",
   "metadata": {},
   "outputs": [],
   "source": [
    "spisok['Count_phenotypes'] = spisok.phenotypes.apply(lambda x: len(x))"
   ]
  },
  {
   "cell_type": "code",
   "execution_count": 720,
   "id": "4aa282df-c5a1-46ea-957c-528c111b31a9",
   "metadata": {},
   "outputs": [],
   "source": [
    "pd.set_option('display.max_column', None)\n",
    "pd.set_option('display.max_rows', None)\n",
    "pd.set_option('display.max_seq_items', None)\n",
    "pd.set_option('display.max_colwidth', 500)\n",
    "pd.set_option('expand_frame_repr', True)"
   ]
  },
  {
   "cell_type": "code",
   "execution_count": 722,
   "id": "bc507e88-748b-4338-aa2d-3723ae55b51d",
   "metadata": {},
   "outputs": [
    {
     "data": {
      "text/html": [
       "<div>\n",
       "<style scoped>\n",
       "    .dataframe tbody tr th:only-of-type {\n",
       "        vertical-align: middle;\n",
       "    }\n",
       "\n",
       "    .dataframe tbody tr th {\n",
       "        vertical-align: top;\n",
       "    }\n",
       "\n",
       "    .dataframe thead th {\n",
       "        text-align: right;\n",
       "    }\n",
       "</style>\n",
       "<table border=\"1\" class=\"dataframe\">\n",
       "  <thead>\n",
       "    <tr style=\"text-align: center;\">\n",
       "      <th></th>\n",
       "      <th>phenotypes</th>\n",
       "      <th>variant</th>\n",
       "      <th>gene</th>\n",
       "      <th>Count_variants</th>\n",
       "      <th>Count_phenotypes</th>\n",
       "    </tr>\n",
       "    <tr>\n",
       "      <th>trait</th>\n",
       "      <th></th>\n",
       "      <th></th>\n",
       "      <th></th>\n",
       "      <th></th>\n",
       "      <th></th>\n",
       "    </tr>\n",
       "  </thead>\n",
       "  <tbody>\n",
       "    <tr>\n",
       "      <th>educational attainment</th>\n",
       "      <td>{ангедония logistic.top1000_new, DSM_ДЕПРЕССИЯ logistic.top1000_new, гиперсомния logistic.top1000_new, HADS_A_КАТЕГОРИЯ logistic.top1000_new, HADS_D. БАЛЛ linear.top1000_new, HADS_D_КАТЕГОРИЯ logistic.top1000_new, DSM_ГТР logistic.top1000_new}</td>\n",
       "      <td>{rs61768375, rs139472275, rs62208714, rs10762199, rs75965832, rs12923809, rs149926387}</td>\n",
       "      <td>{KDM4A,AL451062.4,KDM4A-AS1, intergenic, AC138305.1, PTPRT}</td>\n",
       "      <td>7</td>\n",
       "      <td>7</td>\n",
       "    </tr>\n",
       "    <tr>\n",
       "      <th>blood protein measurement</th>\n",
       "      <td>{ангедония logistic.top1000_new, DSM_ДЕПРЕССИЯ logistic.top1000_new, гиперсомния плюс гиперфагия logistic.top1000_new, любой фенотип logistic.top1000_new, HADS_A_КАТЕГОРИЯ logistic.top1000_new, HADS_D. БАЛЛ linear.top1000_new, DSM_БАР logistic.top1000_new}</td>\n",
       "      <td>{rs72689400, rs4971252, rs11064881;rs11064881, rs60931389, rs12816349, rs198375, rs3828309;rs3828309, rs11591129, rs148845260, rs10210302}</td>\n",
       "      <td>{CIT, CHD4,AC006064.6, GPA33, FCRL4, KPintergenic5, ATG16L1, intergenic, FMOD, TRAPPC9}</td>\n",
       "      <td>10</td>\n",
       "      <td>7</td>\n",
       "    </tr>\n",
       "    <tr>\n",
       "      <th>high density lipoprotein cholesterol measurement</th>\n",
       "      <td>{ангедония logistic.top1000_new, DSM_ДЕПРЕССИЯ logistic.top1000_new, HADS_A_КАТЕГОРИЯ logistic.top1000_new, любой фенотип logistic.top1000_new, HADS_D_КАТЕГОРИЯ logistic.top1000_new, DSM_БАР logistic.top1000_new, DSM субклиническая депрессия logistic.top1000_new}</td>\n",
       "      <td>{rs72992015, rs5754701, rs267738, rs7849420, rs1488665, rs61386199, rs198325, rs4778864, rs198375, rs2055975}</td>\n",
       "      <td>{CERS2, CTSS, AC103855.2,AC103855.3, intergenic, ARNT, CEMIP, LARGE1, MIR31HG}</td>\n",
       "      <td>10</td>\n",
       "      <td>7</td>\n",
       "    </tr>\n",
       "    <tr>\n",
       "      <th>acute myeloid leukemia</th>\n",
       "      <td>{DSM_ДЕПРЕССИЯ logistic.top1000_new, HADS_D_субклиническая депрессия logistic.top1000_new, гиперфагия logistic.top1000_new, гиперсомния плюс гиперфагия logistic.top1000_new, HADS_A_КАТЕГОРИЯ logistic.top1000_new, HADS_D. БАЛЛ linear.top1000_new}</td>\n",
       "      <td>{rs17352975, rs6692331, rs2446588, rs17058573, rs17091190, rs17058568, rs9875499, rs10494915, rs17456510, rs4700440, rs4700441, rs767150, rs17456587, rs767151}</td>\n",
       "      <td>{NUGGC, COL6A5, FRMD4A, intergenic, CSGALintergenicCT1}</td>\n",
       "      <td>14</td>\n",
       "      <td>6</td>\n",
       "    </tr>\n",
       "    <tr>\n",
       "      <th>appendicular lean mass</th>\n",
       "      <td>{ангедония logistic.top1000_new, гиперсомния logistic.top1000_new, HADS_A_КАТЕГОРИЯ logistic.top1000_new, HADS_D. БАЛЛ linear.top1000_new, DSM_БАР logistic.top1000_new}</td>\n",
       "      <td>{rs4962504, rs78275727, rs11241697, rs1004030, rs9832919}</td>\n",
       "      <td>{COP1, intergenic, DintergenicJC13, ADAM12}</td>\n",
       "      <td>5</td>\n",
       "      <td>5</td>\n",
       "    </tr>\n",
       "    <tr>\n",
       "      <th>bone density</th>\n",
       "      <td>{гиперсомния logistic.top1000_new, DSM_ДЕПРЕССИЯ logistic.top1000_new, гиперфагия logistic.top1000_new, HADS_A_КАТЕГОРИЯ logistic.top1000_new, HADS_D. БАЛЛ linear.top1000_new}</td>\n",
       "      <td>{rs150236961, rs1488665, rs181678666, rs117573364, rs551548568;rs34400921}</td>\n",
       "      <td>{AC103855.2,AC103855.3, ZFHX4-AS1, intergenic, AL355095.1}</td>\n",
       "      <td>5</td>\n",
       "      <td>5</td>\n",
       "    </tr>\n",
       "    <tr>\n",
       "      <th>triglyceride measurement</th>\n",
       "      <td>{HADS_A. БАЛЛ linear.top1000_new, HADS_A_КАТЕГОРИЯ logistic.top1000_new, HADS_D_КАТЕГОРИЯ logistic.top1000_new, DSM_БАР logistic.top1000_new, DSM субклиническая депрессия logistic.top1000_new}</td>\n",
       "      <td>{rs7849420, rs1488665, rs13209686, rs62057090, rs166881}</td>\n",
       "      <td>{SLC22A2, SLC35F1, AC103855.2,AC103855.3, intergenic, MIR31HG}</td>\n",
       "      <td>5</td>\n",
       "      <td>5</td>\n",
       "    </tr>\n",
       "    <tr>\n",
       "      <th>low density lipoprotein cholesterol measurement</th>\n",
       "      <td>{HADS_A_КАТЕГОРИЯ logistic.top1000_new, гиперсомния плюс гиперфагия logistic.top1000_new, DSM_ДЕПРЕССИЯ logistic.top1000_new, DSM субклиническая депрессия logistic.top1000_new}</td>\n",
       "      <td>{rs221057, rs7849420, rs1488665, rs9275052}</td>\n",
       "      <td>{AC103855.2,AC103855.3, intergenic, MIR31HG, ARHGEF19}</td>\n",
       "      <td>4</td>\n",
       "      <td>4</td>\n",
       "    </tr>\n",
       "    <tr>\n",
       "      <th>aspartate aminotransferase measurement</th>\n",
       "      <td>{HADS_A_КАТЕГОРИЯ logistic.top1000_new, гиперсомния плюс гиперфагия logistic.top1000_new, гиперсомния logistic.top1000_new, DSM субклиническая депрессия logistic.top1000_new}</td>\n",
       "      <td>{rs115169076, rs11254509, rs1488665, rs221057, rs80066701}</td>\n",
       "      <td>{AC103855.2,AC103855.3, intergenic, ADAMTS12, ARHGEF19, ARHGAP29}</td>\n",
       "      <td>5</td>\n",
       "      <td>4</td>\n",
       "    </tr>\n",
       "    <tr>\n",
       "      <th>body mass index</th>\n",
       "      <td>{HADS_A_КАТЕГОРИЯ logistic.top1000_new, гиперсомния плюс гиперфагия logistic.top1000_new, HADS_A. БАЛЛ linear.top1000_new, гиперсомния logistic.top1000_new}</td>\n",
       "      <td>{rs1106684, rs4889630, rs1488665, rs12069239, rs2391278}</td>\n",
       "      <td>{FBXO42, AC103855.2,AC103855.3, AC004540.1, intergenic, BCL7C}</td>\n",
       "      <td>5</td>\n",
       "      <td>4</td>\n",
       "    </tr>\n",
       "    <tr>\n",
       "      <th>sex hormone-binding globulin measurement</th>\n",
       "      <td>{гиперфагия logistic.top1000_new, гиперсомния плюс гиперфагия logistic.top1000_new, HADS_A. БАЛЛ linear.top1000_new, любой фенотип logistic.top1000_new}</td>\n",
       "      <td>{rs11188604, rs2584686;rs2584686, rs73407797, rs221057, rs62057090, rs11188601}</td>\n",
       "      <td>{intergenic, AC091180.6, ARHGEF19}</td>\n",
       "      <td>6</td>\n",
       "      <td>4</td>\n",
       "    </tr>\n",
       "    <tr>\n",
       "      <th>mean corpuscular volume</th>\n",
       "      <td>{HADS_D_КАТЕГОРИЯ logistic.top1000_new, DSM_ГТР logistic.top1000_new, DSM субклиническая депрессия logistic.top1000_new, HADS_D_субклиническая депрессия logistic.top1000_new}</td>\n",
       "      <td>{rs5754111, rs2288202, rs5754120, rs62045844, rs859562, rs17698823, rs3827335}</td>\n",
       "      <td>{FBXO7, MIR29B2CHG, intergenic, NEB}</td>\n",
       "      <td>7</td>\n",
       "      <td>4</td>\n",
       "    </tr>\n",
       "    <tr>\n",
       "      <th>schizophrenia</th>\n",
       "      <td>{гиперсомния плюс гиперфагия logistic.top1000_new, HADS_A. БАЛЛ linear.top1000_new, DSM_ГТР logistic.top1000_new, DSM субклиническая депрессия logistic.top1000_new}</td>\n",
       "      <td>{rs72805557, rs10007582, rs10863593, rs7523273;rs7523273, rs76503615, rs395138, rs2745977}</td>\n",
       "      <td>{ATP8A1, ENOX1, intergenic, MIR29B2CHG}</td>\n",
       "      <td>7</td>\n",
       "      <td>4</td>\n",
       "    </tr>\n",
       "    <tr>\n",
       "      <th>unipolar depression</th>\n",
       "      <td>{HADS_D. БАЛЛ linear.top1000_new, HADS_A. БАЛЛ linear.top1000_new, HADS_D_КАТЕГОРИЯ logistic.top1000_new, DSM_ДЕПРЕССИЯ logistic.top1000_new}</td>\n",
       "      <td>{rs414421, rs377094, rs160730, rs521851, rs141208948, rs465787, rs395138}</td>\n",
       "      <td>{ENOX1, intergenic, MAGI2}</td>\n",
       "      <td>7</td>\n",
       "      <td>4</td>\n",
       "    </tr>\n",
       "    <tr>\n",
       "      <th>glomerular filtration rate</th>\n",
       "      <td>{DSM_ГТР logistic.top1000_new, DSM_БАР logistic.top1000_new, DSM субклиническая депрессия logistic.top1000_new, любой фенотип logistic.top1000_new}</td>\n",
       "      <td>{rs72992015, rs4664475, rs35657869, rs267738, rs78132593, rs72830437, rs6730454, rs8474, rs3793805, rs9832919}</td>\n",
       "      <td>{CERS2, NEB, CTXND2, PARG, ANKRD11, intergenic, DintergenicJC13, ARNT}</td>\n",
       "      <td>10</td>\n",
       "      <td>4</td>\n",
       "    </tr>\n",
       "    <tr>\n",
       "      <th>HbA1c measurement</th>\n",
       "      <td>{любой фенотип logistic.top1000_new, DSM_БАР logistic.top1000_new, DSM_ДЕПРЕССИЯ logistic.top1000_new}</td>\n",
       "      <td>{rs12724903, rs267738, rs192095068}</td>\n",
       "      <td>{OR10Z1, CERS2, SLC25A37}</td>\n",
       "      <td>3</td>\n",
       "      <td>3</td>\n",
       "    </tr>\n",
       "    <tr>\n",
       "      <th>brain measurement</th>\n",
       "      <td>{гиперфагия logistic.top1000_new, гиперсомния плюс гиперфагия logistic.top1000_new, гиперсомния logistic.top1000_new}</td>\n",
       "      <td>{rs10787774;rs10787774, rs4661727, rs28738104}</td>\n",
       "      <td>{EMX2OS, intergenic}</td>\n",
       "      <td>3</td>\n",
       "      <td>3</td>\n",
       "    </tr>\n",
       "    <tr>\n",
       "      <th>childhood onset asthma</th>\n",
       "      <td>{гиперсомния плюс гиперфагия logistic.top1000_new, DSM_ДЕПРЕССИЯ logistic.top1000_new, DSM субклиническая депрессия logistic.top1000_new}</td>\n",
       "      <td>{rs78823938, rs71625139, rs72825929}</td>\n",
       "      <td>{intergenic, JAZF1, RORC}</td>\n",
       "      <td>3</td>\n",
       "      <td>3</td>\n",
       "    </tr>\n",
       "    <tr>\n",
       "      <th>intelligence</th>\n",
       "      <td>{HADS_D. БАЛЛ linear.top1000_new, HADS_D_субклиническая депрессия logistic.top1000_new, любой фенотип logistic.top1000_new}</td>\n",
       "      <td>{rs3115423, rs7196032, rs683686}</td>\n",
       "      <td>{MACROD1, intergenic, VAC14}</td>\n",
       "      <td>3</td>\n",
       "      <td>3</td>\n",
       "    </tr>\n",
       "    <tr>\n",
       "      <th>neurofibrillary tangles measurement</th>\n",
       "      <td>{DSM_ГТР logistic.top1000_new, DSM субклиническая депрессия logistic.top1000_new, DSM_ДЕПРЕССИЯ logistic.top1000_new}</td>\n",
       "      <td>{rs2211675, rs11957668, rs1289744}</td>\n",
       "      <td>{AC008691.1, LINC00159, IFT57}</td>\n",
       "      <td>3</td>\n",
       "      <td>3</td>\n",
       "    </tr>\n",
       "    <tr>\n",
       "      <th>neuroticism measurement</th>\n",
       "      <td>{DSM_ДЕПРЕССИЯ logistic.top1000_new, DSM субклиническая депрессия logistic.top1000_new, HADS_D_субклиническая депрессия logistic.top1000_new}</td>\n",
       "      <td>{rs761366, rs62047970, rs901877;rs901877}</td>\n",
       "      <td>{intergenic, VAC14, ZC3H7B}</td>\n",
       "      <td>3</td>\n",
       "      <td>3</td>\n",
       "    </tr>\n",
       "    <tr>\n",
       "      <th>protein measurement</th>\n",
       "      <td>{HADS_A_КАТЕГОРИЯ logistic.top1000_new, гиперфагия logistic.top1000_new, HADS_D_КАТЕГОРИЯ logistic.top1000_new}</td>\n",
       "      <td>{rs7870053, rs1488665, rs10936715}</td>\n",
       "      <td>{AC103855.2,AC103855.3, SH3GLB2, intergenic}</td>\n",
       "      <td>3</td>\n",
       "      <td>3</td>\n",
       "    </tr>\n",
       "    <tr>\n",
       "      <th>self reported educational attainment</th>\n",
       "      <td>{гиперфагия logistic.top1000_new, DSM_ДЕПРЕССИЯ logistic.top1000_new, DSM субклиническая депрессия logistic.top1000_new}</td>\n",
       "      <td>{rs61078946, rs62047970, rs17561924}</td>\n",
       "      <td>{GABRG3, ADAT1,AC025287.1, VAC14}</td>\n",
       "      <td>3</td>\n",
       "      <td>3</td>\n",
       "    </tr>\n",
       "    <tr>\n",
       "      <th>serum gamma-glutamyl transferase measurement</th>\n",
       "      <td>{гиперсомния плюс гиперфагия logistic.top1000_new, DSM_БАР logistic.top1000_new, HADS_D_субклиническая депрессия logistic.top1000_new}</td>\n",
       "      <td>{rs221057, rs2055975, rs79844428}</td>\n",
       "      <td>{intergenic, ARHGEF19, EDAR}</td>\n",
       "      <td>3</td>\n",
       "      <td>3</td>\n",
       "    </tr>\n",
       "    <tr>\n",
       "      <th>PHF-tau measurement</th>\n",
       "      <td>{HADS_D. БАЛЛ linear.top1000_new, HADS_A. БАЛЛ linear.top1000_new, ангедония logistic.top1000_new}</td>\n",
       "      <td>{rs17297619, rs6005542, rs4813277, rs273077}</td>\n",
       "      <td>{BANF2, intergenic, SFXN1}</td>\n",
       "      <td>4</td>\n",
       "      <td>3</td>\n",
       "    </tr>\n",
       "    <tr>\n",
       "      <th>total cholesterol measurement</th>\n",
       "      <td>{HADS_A_КАТЕГОРИЯ logistic.top1000_new, любой фенотип logistic.top1000_new, DSM_ДЕПРЕССИЯ logistic.top1000_new}</td>\n",
       "      <td>{rs72992015, rs267738, rs1488665, rs9275052}</td>\n",
       "      <td>{AC103855.2,AC103855.3, CERS2, intergenic, ARNT}</td>\n",
       "      <td>4</td>\n",
       "      <td>3</td>\n",
       "    </tr>\n",
       "    <tr>\n",
       "      <th>COVID-19</th>\n",
       "      <td>{HADS_D. БАЛЛ linear.top1000_new, гиперфагия logistic.top1000_new, гиперсомния logistic.top1000_new}</td>\n",
       "      <td>{rs918258, rs2303473, rs2137320, rs2268616, rs72645662}</td>\n",
       "      <td>{LSP1, intergenic, PGF, RPL24}</td>\n",
       "      <td>5</td>\n",
       "      <td>3</td>\n",
       "    </tr>\n",
       "    <tr>\n",
       "      <th>inflammatory bowel disease</th>\n",
       "      <td>{HADS_A_КАТЕГОРИЯ logistic.top1000_new, ангедония logistic.top1000_new, DSM_БАР logistic.top1000_new}</td>\n",
       "      <td>{rs11064881;rs11064881, rs10737482, rs4899554;rs4899554, rs6752107, rs12994997;rs12994997}</td>\n",
       "      <td>{ATG16L1, intergenic, CIT}</td>\n",
       "      <td>5</td>\n",
       "      <td>3</td>\n",
       "    </tr>\n",
       "    <tr>\n",
       "      <th>testosterone measurement</th>\n",
       "      <td>{HADS_A_КАТЕГОРИЯ logistic.top1000_new, любой фенотип logistic.top1000_new, DSM_БАР logistic.top1000_new}</td>\n",
       "      <td>{rs201643157, rs537551388, rs1488665, rs75762753, rs199787521}</td>\n",
       "      <td>{AC103855.2,AC103855.3, SLC25A37, KCNK13}</td>\n",
       "      <td>5</td>\n",
       "      <td>3</td>\n",
       "    </tr>\n",
       "    <tr>\n",
       "      <th>ulcerative colitis</th>\n",
       "      <td>{HADS_A_КАТЕГОРИЯ logistic.top1000_new, ангедония logistic.top1000_new, DSM_ГТР logistic.top1000_new}</td>\n",
       "      <td>{rs3792108, rs11064881;rs11064881, rs36001488, rs35300242, rs9271209}</td>\n",
       "      <td>{ATG16L1, intergenic, CIT}</td>\n",
       "      <td>5</td>\n",
       "      <td>3</td>\n",
       "    </tr>\n",
       "    <tr>\n",
       "      <th>mean corpuscular hemoglobin</th>\n",
       "      <td>{DSM_ГТР logistic.top1000_new, DSM субклиническая депрессия logistic.top1000_new, HADS_D_субклиническая депрессия logistic.top1000_new}</td>\n",
       "      <td>{rs5754111, rs2288202, rs62045844, rs3788449, rs5994579, rs2142718}</td>\n",
       "      <td>{FBXO7, intergenic, NEB}</td>\n",
       "      <td>6</td>\n",
       "      <td>3</td>\n",
       "    </tr>\n",
       "    <tr>\n",
       "      <th>systolic blood pressure</th>\n",
       "      <td>{HADS_A_КАТЕГОРИЯ logistic.top1000_new, HADS_A. БАЛЛ linear.top1000_new, DSM_БАР logistic.top1000_new}</td>\n",
       "      <td>{rs35410017, rs62503324, rs1488665, rs2872717, rs12595031, rs62057090}</td>\n",
       "      <td>{AC103855.2,AC103855.3, intergenic, SLC25A37, AC027013.1,LINC00924}</td>\n",
       "      <td>6</td>\n",
       "      <td>3</td>\n",
       "    </tr>\n",
       "    <tr>\n",
       "      <th>BMI-adjusted hip circumference</th>\n",
       "      <td>{ангедония logistic.top1000_new, любой фенотип logistic.top1000_new}</td>\n",
       "      <td>{rs72992015, rs198375}</td>\n",
       "      <td>{intergenic, ARNT}</td>\n",
       "      <td>2</td>\n",
       "      <td>2</td>\n",
       "    </tr>\n",
       "    <tr>\n",
       "      <th>Free cholesterol:total lipids ratio</th>\n",
       "      <td>{ангедония logistic.top1000_new, любой фенотип logistic.top1000_new}</td>\n",
       "      <td>{rs72992015, rs198375}</td>\n",
       "      <td>{intergenic, ARNT}</td>\n",
       "      <td>2</td>\n",
       "      <td>2</td>\n",
       "    </tr>\n",
       "    <tr>\n",
       "      <th>IgF-1 measurement</th>\n",
       "      <td>{HADS_A_КАТЕГОРИЯ logistic.top1000_new, HADS_D_КАТЕГОРИЯ logistic.top1000_new}</td>\n",
       "      <td>{rs1488665, rs5751086;rs5751086}</td>\n",
       "      <td>{AC103855.2,AC103855.3, TEF}</td>\n",
       "      <td>2</td>\n",
       "      <td>2</td>\n",
       "    </tr>\n",
       "    <tr>\n",
       "      <th>alkaline phosphatase measurement</th>\n",
       "      <td>{HADS_A_КАТЕГОРИЯ logistic.top1000_new, любой фенотип logistic.top1000_new}</td>\n",
       "      <td>{rs13418066, rs2241878}</td>\n",
       "      <td>{ATG16L1}</td>\n",
       "      <td>2</td>\n",
       "      <td>2</td>\n",
       "    </tr>\n",
       "    <tr>\n",
       "      <th>amino acid measurement</th>\n",
       "      <td>{HADS_A_КАТЕГОРИЯ logistic.top1000_new, гиперфагия logistic.top1000_new}</td>\n",
       "      <td>{rs1433394, rs1488665}</td>\n",
       "      <td>{AC103855.2,AC103855.3, intergenic}</td>\n",
       "      <td>2</td>\n",
       "      <td>2</td>\n",
       "    </tr>\n",
       "    <tr>\n",
       "      <th>apolipoprotein a 1 measurement</th>\n",
       "      <td>{любой фенотип logistic.top1000_new, DSM_ДЕПРЕССИЯ logistic.top1000_new}</td>\n",
       "      <td>{rs34834099, rs267738}</td>\n",
       "      <td>{CERS2, CGN}</td>\n",
       "      <td>2</td>\n",
       "      <td>2</td>\n",
       "    </tr>\n",
       "    <tr>\n",
       "      <th>aspartate aminotransferase to alanine aminotransferase ratio</th>\n",
       "      <td>{гиперсомния logistic.top1000_new, DSM субклиническая депрессия logistic.top1000_new}</td>\n",
       "      <td>{rs80066701, rs11254509}</td>\n",
       "      <td>{intergenic, ARHGAP29}</td>\n",
       "      <td>2</td>\n",
       "      <td>2</td>\n",
       "    </tr>\n",
       "    <tr>\n",
       "      <th>attention deficit hyperactivity disorder</th>\n",
       "      <td>{ангедония logistic.top1000_new, HADS_A. БАЛЛ linear.top1000_new}</td>\n",
       "      <td>{rs738352, rs395138}</td>\n",
       "      <td>{AL121885.2, ENOX1}</td>\n",
       "      <td>2</td>\n",
       "      <td>2</td>\n",
       "    </tr>\n",
       "    <tr>\n",
       "      <th>bilirubin measurement</th>\n",
       "      <td>{DSM_БАР logistic.top1000_new, DSM_ДЕПРЕССИЯ logistic.top1000_new}</td>\n",
       "      <td>{rs12724903, rs33963055}</td>\n",
       "      <td>{OR10Z1, SLC25A37}</td>\n",
       "      <td>2</td>\n",
       "      <td>2</td>\n",
       "    </tr>\n",
       "    <tr>\n",
       "      <th>birth weight</th>\n",
       "      <td>{HADS_A_КАТЕГОРИЯ logistic.top1000_new, DSM_БАР logistic.top1000_new}</td>\n",
       "      <td>{rs11778247, rs1488665}</td>\n",
       "      <td>{AC103855.2,AC103855.3, SLC25A37}</td>\n",
       "      <td>2</td>\n",
       "      <td>2</td>\n",
       "    </tr>\n",
       "    <tr>\n",
       "      <th>calcium measurement</th>\n",
       "      <td>{любой фенотип logistic.top1000_new, DSM_ДЕПРЕССИЯ logistic.top1000_new}</td>\n",
       "      <td>{rs34834099, rs61386199}</td>\n",
       "      <td>{CTSS, CGN}</td>\n",
       "      <td>2</td>\n",
       "      <td>2</td>\n",
       "    </tr>\n",
       "    <tr>\n",
       "      <th>cognitive function measurement</th>\n",
       "      <td>{DSM_ДЕПРЕССИЯ logistic.top1000_new, DSM субклиническая депрессия logistic.top1000_new}</td>\n",
       "      <td>{rs62047970, rs901877;rs901877}</td>\n",
       "      <td>{intergenic, VAC14}</td>\n",
       "      <td>2</td>\n",
       "      <td>2</td>\n",
       "    </tr>\n",
       "    <tr>\n",
       "      <th>cup-to-disc ratio measurement</th>\n",
       "      <td>{HADS_A. БАЛЛ linear.top1000_new, гиперсомния logistic.top1000_new}</td>\n",
       "      <td>{rs1857901, rs77725841}</td>\n",
       "      <td>{intergenic, FAT4}</td>\n",
       "      <td>2</td>\n",
       "      <td>2</td>\n",
       "    </tr>\n",
       "    <tr>\n",
       "      <th>fasting blood glucose measurement</th>\n",
       "      <td>{HADS_A_КАТЕГОРИЯ logistic.top1000_new, DSM_БАР logistic.top1000_new}</td>\n",
       "      <td>{rs1488665, rs166881}</td>\n",
       "      <td>{AC103855.2,AC103855.3, SLC35F1}</td>\n",
       "      <td>2</td>\n",
       "      <td>2</td>\n",
       "    </tr>\n",
       "    <tr>\n",
       "      <th>frontotemporal dementia</th>\n",
       "      <td>{ангедония logistic.top1000_new, гиперсомния logistic.top1000_new}</td>\n",
       "      <td>{rs10101195, rs79095029}</td>\n",
       "      <td>{intergenic}</td>\n",
       "      <td>2</td>\n",
       "      <td>2</td>\n",
       "    </tr>\n",
       "    <tr>\n",
       "      <th>gut microbiome measurement</th>\n",
       "      <td>{гиперфагия logistic.top1000_new, HADS_D_КАТЕГОРИЯ logistic.top1000_new}</td>\n",
       "      <td>{rs10791218, rs189789585}</td>\n",
       "      <td>{NTM, HSD17B3,AL160269.1}</td>\n",
       "      <td>2</td>\n",
       "      <td>2</td>\n",
       "    </tr>\n",
       "    <tr>\n",
       "      <th>hemoglobin A1 measurement</th>\n",
       "      <td>{любой фенотип logistic.top1000_new, DSM_БАР logistic.top1000_new}</td>\n",
       "      <td>{rs198325, rs192095068}</td>\n",
       "      <td>{CERS2, SLC25A37}</td>\n",
       "      <td>2</td>\n",
       "      <td>2</td>\n",
       "    </tr>\n",
       "  </tbody>\n",
       "</table>\n",
       "</div>"
      ],
      "text/plain": [
       "                                                                                                                                                                                            phenotypes                                                                                                                                                                                                            variant                                                                                                                        gene                                            Count_variants  Count_phenotypes\n",
       "trait                                                                                                                                                                                                                                                                                                                                                                                                                                                                                                                                                                                                                            \n",
       "educational attainment                                                            {ангедония logistic.top1000_new, DSM_ДЕПРЕССИЯ logistic.top1000_new, гиперсомния logistic.top1000_new, HADS_A_КАТЕГОРИЯ logistic.top1000_new, HADS_D. БАЛЛ linear.top1000_new, HADS_D_КАТЕГОРИЯ logistic.top1000_new, DSM_ГТР logistic.top1000_new}                                                                           {rs61768375, rs139472275, rs62208714, rs10762199, rs75965832, rs12923809, rs149926387}                              {KDM4A,AL451062.4,KDM4A-AS1, intergenic, AC138305.1, PTPRT}         7                7       \n",
       "blood protein measurement                                            {ангедония logistic.top1000_new, DSM_ДЕПРЕССИЯ logistic.top1000_new, гиперсомния плюс гиперфагия logistic.top1000_new, любой фенотип logistic.top1000_new, HADS_A_КАТЕГОРИЯ logistic.top1000_new, HADS_D. БАЛЛ linear.top1000_new, DSM_БАР logistic.top1000_new}                       {rs72689400, rs4971252, rs11064881;rs11064881, rs60931389, rs12816349, rs198375, rs3828309;rs3828309, rs11591129, rs148845260, rs10210302}  {CIT, CHD4,AC006064.6, GPA33, FCRL4, KPintergenic5, ATG16L1, intergenic, FMOD, TRAPPC9}        10                7       \n",
       "high density lipoprotein cholesterol measurement              {ангедония logistic.top1000_new, DSM_ДЕПРЕССИЯ logistic.top1000_new, HADS_A_КАТЕГОРИЯ logistic.top1000_new, любой фенотип logistic.top1000_new, HADS_D_КАТЕГОРИЯ logistic.top1000_new, DSM_БАР logistic.top1000_new, DSM субклиническая депрессия logistic.top1000_new}                                                    {rs72992015, rs5754701, rs267738, rs7849420, rs1488665, rs61386199, rs198325, rs4778864, rs198375, rs2055975}           {CERS2, CTSS, AC103855.2,AC103855.3, intergenic, ARNT, CEMIP, LARGE1, MIR31HG}        10                7       \n",
       "acute myeloid leukemia                                                          {DSM_ДЕПРЕССИЯ logistic.top1000_new, HADS_D_субклиническая депрессия logistic.top1000_new, гиперфагия logistic.top1000_new, гиперсомния плюс гиперфагия logistic.top1000_new, HADS_A_КАТЕГОРИЯ logistic.top1000_new, HADS_D. БАЛЛ linear.top1000_new}  {rs17352975, rs6692331, rs2446588, rs17058573, rs17091190, rs17058568, rs9875499, rs10494915, rs17456510, rs4700440, rs4700441, rs767150, rs17456587, rs767151}                                  {NUGGC, COL6A5, FRMD4A, intergenic, CSGALintergenicCT1}        14                6       \n",
       "appendicular lean mass                                                                                                                                       {ангедония logistic.top1000_new, гиперсомния logistic.top1000_new, HADS_A_КАТЕГОРИЯ logistic.top1000_new, HADS_D. БАЛЛ linear.top1000_new, DSM_БАР logistic.top1000_new}                                                                                                        {rs4962504, rs78275727, rs11241697, rs1004030, rs9832919}                                              {COP1, intergenic, DintergenicJC13, ADAM12}         5                5       \n",
       "bone density                                                                                                                                          {гиперсомния logistic.top1000_new, DSM_ДЕПРЕССИЯ logistic.top1000_new, гиперфагия logistic.top1000_new, HADS_A_КАТЕГОРИЯ logistic.top1000_new, HADS_D. БАЛЛ linear.top1000_new}                                                                                       {rs150236961, rs1488665, rs181678666, rs117573364, rs551548568;rs34400921}                               {AC103855.2,AC103855.3, ZFHX4-AS1, intergenic, AL355095.1}         5                5       \n",
       "triglyceride measurement                                                                                                             {HADS_A. БАЛЛ linear.top1000_new, HADS_A_КАТЕГОРИЯ logistic.top1000_new, HADS_D_КАТЕГОРИЯ logistic.top1000_new, DSM_БАР logistic.top1000_new, DSM субклиническая депрессия logistic.top1000_new}                                                                                                         {rs7849420, rs1488665, rs13209686, rs62057090, rs166881}                           {SLC22A2, SLC35F1, AC103855.2,AC103855.3, intergenic, MIR31HG}         5                5       \n",
       "low density lipoprotein cholesterol measurement                                                                                                      {HADS_A_КАТЕГОРИЯ logistic.top1000_new, гиперсомния плюс гиперфагия logistic.top1000_new, DSM_ДЕПРЕССИЯ logistic.top1000_new, DSM субклиническая депрессия logistic.top1000_new}                                                                                                                      {rs221057, rs7849420, rs1488665, rs9275052}                                   {AC103855.2,AC103855.3, intergenic, MIR31HG, ARHGEF19}         4                4       \n",
       "aspartate aminotransferase measurement                                                                                                                 {HADS_A_КАТЕГОРИЯ logistic.top1000_new, гиперсомния плюс гиперфагия logistic.top1000_new, гиперсомния logistic.top1000_new, DSM субклиническая депрессия logistic.top1000_new}                                                                                                       {rs115169076, rs11254509, rs1488665, rs221057, rs80066701}                        {AC103855.2,AC103855.3, intergenic, ADAMTS12, ARHGEF19, ARHGAP29}         5                4       \n",
       "body mass index                                                                                                                                                          {HADS_A_КАТЕГОРИЯ logistic.top1000_new, гиперсомния плюс гиперфагия logistic.top1000_new, HADS_A. БАЛЛ linear.top1000_new, гиперсомния logistic.top1000_new}                                                                                                         {rs1106684, rs4889630, rs1488665, rs12069239, rs2391278}                           {FBXO42, AC103855.2,AC103855.3, AC004540.1, intergenic, BCL7C}         5                4       \n",
       "sex hormone-binding globulin measurement                                                                                                                                     {гиперфагия logistic.top1000_new, гиперсомния плюс гиперфагия logistic.top1000_new, HADS_A. БАЛЛ linear.top1000_new, любой фенотип logistic.top1000_new}                                                                                  {rs11188604, rs2584686;rs2584686, rs73407797, rs221057, rs62057090, rs11188601}                                                       {intergenic, AC091180.6, ARHGEF19}         6                4       \n",
       "mean corpuscular volume                                                                                                                                {HADS_D_КАТЕГОРИЯ logistic.top1000_new, DSM_ГТР logistic.top1000_new, DSM субклиническая депрессия logistic.top1000_new, HADS_D_субклиническая депрессия logistic.top1000_new}                                                                                   {rs5754111, rs2288202, rs5754120, rs62045844, rs859562, rs17698823, rs3827335}                                                     {FBXO7, MIR29B2CHG, intergenic, NEB}         7                4       \n",
       "schizophrenia                                                                                                                                                    {гиперсомния плюс гиперфагия logistic.top1000_new, HADS_A. БАЛЛ linear.top1000_new, DSM_ГТР logistic.top1000_new, DSM субклиническая депрессия logistic.top1000_new}                                                                       {rs72805557, rs10007582, rs10863593, rs7523273;rs7523273, rs76503615, rs395138, rs2745977}                                                  {ATP8A1, ENOX1, intergenic, MIR29B2CHG}         7                4       \n",
       "unipolar depression                                                                                                                                                                     {HADS_D. БАЛЛ linear.top1000_new, HADS_A. БАЛЛ linear.top1000_new, HADS_D_КАТЕГОРИЯ logistic.top1000_new, DSM_ДЕПРЕССИЯ logistic.top1000_new}                                                                                        {rs414421, rs377094, rs160730, rs521851, rs141208948, rs465787, rs395138}                                                               {ENOX1, intergenic, MAGI2}         7                4       \n",
       "glomerular filtration rate                                                                                                                                                        {DSM_ГТР logistic.top1000_new, DSM_БАР logistic.top1000_new, DSM субклиническая депрессия logistic.top1000_new, любой фенотип logistic.top1000_new}                                                   {rs72992015, rs4664475, rs35657869, rs267738, rs78132593, rs72830437, rs6730454, rs8474, rs3793805, rs9832919}                   {CERS2, NEB, CTXND2, PARG, ANKRD11, intergenic, DintergenicJC13, ARNT}        10                4       \n",
       "HbA1c measurement                                                                                                                                                                                                              {любой фенотип logistic.top1000_new, DSM_БАР logistic.top1000_new, DSM_ДЕПРЕССИЯ logistic.top1000_new}                                                                                                                              {rs12724903, rs267738, rs192095068}                                                                {OR10Z1, CERS2, SLC25A37}         3                3       \n",
       "brain measurement                                                                                                                                                                                               {гиперфагия logistic.top1000_new, гиперсомния плюс гиперфагия logistic.top1000_new, гиперсомния logistic.top1000_new}                                                                                                                   {rs10787774;rs10787774, rs4661727, rs28738104}                                                                     {EMX2OS, intergenic}         3                3       \n",
       "childhood onset asthma                                                                                                                                                                      {гиперсомния плюс гиперфагия logistic.top1000_new, DSM_ДЕПРЕССИЯ logistic.top1000_new, DSM субклиническая депрессия logistic.top1000_new}                                                                                                                             {rs78823938, rs71625139, rs72825929}                                                                {intergenic, JAZF1, RORC}         3                3       \n",
       "intelligence                                                                                                                                                                                              {HADS_D. БАЛЛ linear.top1000_new, HADS_D_субклиническая депрессия logistic.top1000_new, любой фенотип logistic.top1000_new}                                                                                                                                 {rs3115423, rs7196032, rs683686}                                                             {MACROD1, intergenic, VAC14}         3                3       \n",
       "neurofibrillary tangles measurement                                                                                                                                                                             {DSM_ГТР logistic.top1000_new, DSM субклиническая депрессия logistic.top1000_new, DSM_ДЕПРЕССИЯ logistic.top1000_new}                                                                                                                               {rs2211675, rs11957668, rs1289744}                                                           {AC008691.1, LINC00159, IFT57}         3                3       \n",
       "neuroticism measurement                                                                                                                                                                 {DSM_ДЕПРЕССИЯ logistic.top1000_new, DSM субклиническая депрессия logistic.top1000_new, HADS_D_субклиническая депрессия logistic.top1000_new}                                                                                                                        {rs761366, rs62047970, rs901877;rs901877}                                                              {intergenic, VAC14, ZC3H7B}         3                3       \n",
       "protein measurement                                                                                                                                                                                                   {HADS_A_КАТЕГОРИЯ logistic.top1000_new, гиперфагия logistic.top1000_new, HADS_D_КАТЕГОРИЯ logistic.top1000_new}                                                                                                                               {rs7870053, rs1488665, rs10936715}                                             {AC103855.2,AC103855.3, SH3GLB2, intergenic}         3                3       \n",
       "self reported educational attainment                                                                                                                                                                         {гиперфагия logistic.top1000_new, DSM_ДЕПРЕССИЯ logistic.top1000_new, DSM субклиническая депрессия logistic.top1000_new}                                                                                                                             {rs61078946, rs62047970, rs17561924}                                                        {GABRG3, ADAT1,AC025287.1, VAC14}         3                3       \n",
       "serum gamma-glutamyl transferase measurement                                                                                                                                                   {гиперсомния плюс гиперфагия logistic.top1000_new, DSM_БАР logistic.top1000_new, HADS_D_субклиническая депрессия logistic.top1000_new}                                                                                                                                {rs221057, rs2055975, rs79844428}                                                             {intergenic, ARHGEF19, EDAR}         3                3       \n",
       "PHF-tau measurement                                                                                                                                                                                                                {HADS_D. БАЛЛ linear.top1000_new, HADS_A. БАЛЛ linear.top1000_new, ангедония logistic.top1000_new}                                                                                                                     {rs17297619, rs6005542, rs4813277, rs273077}                                                               {BANF2, intergenic, SFXN1}         4                3       \n",
       "total cholesterol measurement                                                                                                                                                                                         {HADS_A_КАТЕГОРИЯ logistic.top1000_new, любой фенотип logistic.top1000_new, DSM_ДЕПРЕССИЯ logistic.top1000_new}                                                                                                                     {rs72992015, rs267738, rs1488665, rs9275052}                                         {AC103855.2,AC103855.3, CERS2, intergenic, ARNT}         4                3       \n",
       "COVID-19                                                                                                                                                                                                                         {HADS_D. БАЛЛ linear.top1000_new, гиперфагия logistic.top1000_new, гиперсомния logistic.top1000_new}                                                                                                          {rs918258, rs2303473, rs2137320, rs2268616, rs72645662}                                                           {LSP1, intergenic, PGF, RPL24}         5                3       \n",
       "inflammatory bowel disease                                                                                                                                                                                                      {HADS_A_КАТЕГОРИЯ logistic.top1000_new, ангедония logistic.top1000_new, DSM_БАР logistic.top1000_new}                                                                       {rs11064881;rs11064881, rs10737482, rs4899554;rs4899554, rs6752107, rs12994997;rs12994997}                                                               {ATG16L1, intergenic, CIT}         5                3       \n",
       "testosterone measurement                                                                                                                                                                                                    {HADS_A_КАТЕГОРИЯ logistic.top1000_new, любой фенотип logistic.top1000_new, DSM_БАР logistic.top1000_new}                                                                                                   {rs201643157, rs537551388, rs1488665, rs75762753, rs199787521}                                                {AC103855.2,AC103855.3, SLC25A37, KCNK13}         5                3       \n",
       "ulcerative colitis                                                                                                                                                                                                              {HADS_A_КАТЕГОРИЯ logistic.top1000_new, ангедония logistic.top1000_new, DSM_ГТР logistic.top1000_new}                                                                                            {rs3792108, rs11064881;rs11064881, rs36001488, rs35300242, rs9271209}                                                               {ATG16L1, intergenic, CIT}         5                3       \n",
       "mean corpuscular hemoglobin                                                                                                                                                                   {DSM_ГТР logistic.top1000_new, DSM субклиническая депрессия logistic.top1000_new, HADS_D_субклиническая депрессия logistic.top1000_new}                                                                                              {rs5754111, rs2288202, rs62045844, rs3788449, rs5994579, rs2142718}                                                                 {FBXO7, intergenic, NEB}         6                3       \n",
       "systolic blood pressure                                                                                                                                                                                                        {HADS_A_КАТЕГОРИЯ logistic.top1000_new, HADS_A. БАЛЛ linear.top1000_new, DSM_БАР logistic.top1000_new}                                                                                           {rs35410017, rs62503324, rs1488665, rs2872717, rs12595031, rs62057090}                      {AC103855.2,AC103855.3, intergenic, SLC25A37, AC027013.1,LINC00924}         6                3       \n",
       "BMI-adjusted hip circumference                                                                                                                                                                                                                                   {ангедония logistic.top1000_new, любой фенотип logistic.top1000_new}                                                                                                                                           {rs72992015, rs198375}                                                                       {intergenic, ARNT}         2                2       \n",
       "Free cholesterol:total lipids ratio                                                                                                                                                                                                                              {ангедония logistic.top1000_new, любой фенотип logistic.top1000_new}                                                                                                                                           {rs72992015, rs198375}                                                                       {intergenic, ARNT}         2                2       \n",
       "IgF-1 measurement                                                                                                                                                                                                                                      {HADS_A_КАТЕГОРИЯ logistic.top1000_new, HADS_D_КАТЕГОРИЯ logistic.top1000_new}                                                                                                                                 {rs1488665, rs5751086;rs5751086}                                                             {AC103855.2,AC103855.3, TEF}         2                2       \n",
       "alkaline phosphatase measurement                                                                                                                                                                                                                          {HADS_A_КАТЕГОРИЯ logistic.top1000_new, любой фенотип logistic.top1000_new}                                                                                                                                          {rs13418066, rs2241878}                                                                                {ATG16L1}         2                2       \n",
       "amino acid measurement                                                                                                                                                                                                                                       {HADS_A_КАТЕГОРИЯ logistic.top1000_new, гиперфагия logistic.top1000_new}                                                                                                                                           {rs1433394, rs1488665}                                                      {AC103855.2,AC103855.3, intergenic}         2                2       \n",
       "apolipoprotein a 1 measurement                                                                                                                                                                                                                               {любой фенотип logistic.top1000_new, DSM_ДЕПРЕССИЯ logistic.top1000_new}                                                                                                                                           {rs34834099, rs267738}                                                                             {CERS2, CGN}         2                2       \n",
       "aspartate aminotransferase to alanine aminotransferase ratio                                                                                                                                                                                    {гиперсомния logistic.top1000_new, DSM субклиническая депрессия logistic.top1000_new}                                                                                                                                         {rs80066701, rs11254509}                                                                   {intergenic, ARHGAP29}         2                2       \n",
       "attention deficit hyperactivity disorder                                                                                                                                                                                                                            {ангедония logistic.top1000_new, HADS_A. БАЛЛ linear.top1000_new}                                                                                                                                             {rs738352, rs395138}                                                                      {AL121885.2, ENOX1}         2                2       \n",
       "bilirubin measurement                                                                                                                                                                                                                                              {DSM_БАР logistic.top1000_new, DSM_ДЕПРЕССИЯ logistic.top1000_new}                                                                                                                                         {rs12724903, rs33963055}                                                                       {OR10Z1, SLC25A37}         2                2       \n",
       "birth weight                                                                                                                                                                                                                                                    {HADS_A_КАТЕГОРИЯ logistic.top1000_new, DSM_БАР logistic.top1000_new}                                                                                                                                          {rs11778247, rs1488665}                                                        {AC103855.2,AC103855.3, SLC25A37}         2                2       \n",
       "calcium measurement                                                                                                                                                                                                                                          {любой фенотип logistic.top1000_new, DSM_ДЕПРЕССИЯ logistic.top1000_new}                                                                                                                                         {rs34834099, rs61386199}                                                                              {CTSS, CGN}         2                2       \n",
       "cognitive function measurement                                                                                                                                                                                                                {DSM_ДЕПРЕССИЯ logistic.top1000_new, DSM субклиническая депрессия logistic.top1000_new}                                                                                                                                  {rs62047970, rs901877;rs901877}                                                                      {intergenic, VAC14}         2                2       \n",
       "cup-to-disc ratio measurement                                                                                                                                                                                                                                     {HADS_A. БАЛЛ linear.top1000_new, гиперсомния logistic.top1000_new}                                                                                                                                          {rs1857901, rs77725841}                                                                       {intergenic, FAT4}         2                2       \n",
       "fasting blood glucose measurement                                                                                                                                                                                                                               {HADS_A_КАТЕГОРИЯ logistic.top1000_new, DSM_БАР logistic.top1000_new}                                                                                                                                            {rs1488665, rs166881}                                                         {AC103855.2,AC103855.3, SLC35F1}         2                2       \n",
       "frontotemporal dementia                                                                                                                                                                                                                                            {ангедония logistic.top1000_new, гиперсомния logistic.top1000_new}                                                                                                                                         {rs10101195, rs79095029}                                                                             {intergenic}         2                2       \n",
       "gut microbiome measurement                                                                                                                                                                                                                                   {гиперфагия logistic.top1000_new, HADS_D_КАТЕГОРИЯ logistic.top1000_new}                                                                                                                                        {rs10791218, rs189789585}                                                                {NTM, HSD17B3,AL160269.1}         2                2       \n",
       "hemoglobin A1 measurement                                                                                                                                                                                                                                          {любой фенотип logistic.top1000_new, DSM_БАР logistic.top1000_new}                                                                                                                                          {rs198325, rs192095068}                                                                        {CERS2, SLC25A37}         2                2       "
      ]
     },
     "execution_count": 722,
     "metadata": {},
     "output_type": "execute_result"
    }
   ],
   "source": [
    "spisok.sort_values(['Count_phenotypes', 'Count_variants'], ascending=[False, True])[1:50]"
   ]
  },
  {
   "cell_type": "code",
   "execution_count": 724,
   "id": "061dab56-1a35-4d10-ac0c-60cfea95e9a1",
   "metadata": {},
   "outputs": [],
   "source": [
    "studies = pg.get_studies_by_variant_id(variant_id='rs61768375')"
   ]
  },
  {
   "cell_type": "code",
   "execution_count": null,
   "id": "0d0fc2d4-4635-4c8b-b7f5-699f8c158e6c",
   "metadata": {},
   "outputs": [],
   "source": []
  }
 ],
 "metadata": {
  "kernelspec": {
   "display_name": "Python 3 (ipykernel)",
   "language": "python",
   "name": "python3"
  },
  "language_info": {
   "codemirror_mode": {
    "name": "ipython",
    "version": 3
   },
   "file_extension": ".py",
   "mimetype": "text/x-python",
   "name": "python",
   "nbconvert_exporter": "python",
   "pygments_lexer": "ipython3",
   "version": "3.9.13"
  }
 },
 "nbformat": 4,
 "nbformat_minor": 5
}
